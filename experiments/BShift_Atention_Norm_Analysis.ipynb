{
  "nbformat": 4,
  "nbformat_minor": 0,
  "metadata": {
    "colab": {
      "name": "BShift_Atention_Norm_PyTorch_Aligning_FINAL_R0.ipynb",
      "provenance": [],
      "collapsed_sections": []
    },
    "kernelspec": {
      "name": "python3",
      "display_name": "Python 3"
    },
    "accelerator": "GPU",
    "widgets": {
      "application/vnd.jupyter.widget-state+json": {
        "a2490ac2260645818fc706589a91ba77": {
          "model_module": "@jupyter-widgets/controls",
          "model_name": "HBoxModel",
          "model_module_version": "1.5.0",
          "state": {
            "_dom_classes": [],
            "_model_module": "@jupyter-widgets/controls",
            "_model_module_version": "1.5.0",
            "_model_name": "HBoxModel",
            "_view_count": null,
            "_view_module": "@jupyter-widgets/controls",
            "_view_module_version": "1.5.0",
            "_view_name": "HBoxView",
            "box_style": "",
            "children": [
              "IPY_MODEL_62e54168de3a4c0d91b73985cb90e1be",
              "IPY_MODEL_cb4cea1d2f7e4b9d90bac5bd33c90787"
            ],
            "layout": "IPY_MODEL_7d3403a5ae9d44c59c92830851c262b4"
          }
        },
        "62e54168de3a4c0d91b73985cb90e1be": {
          "model_module": "@jupyter-widgets/controls",
          "model_name": "FloatProgressModel",
          "model_module_version": "1.5.0",
          "state": {
            "_dom_classes": [],
            "_model_module": "@jupyter-widgets/controls",
            "_model_module_version": "1.5.0",
            "_model_name": "FloatProgressModel",
            "_view_count": null,
            "_view_module": "@jupyter-widgets/controls",
            "_view_module_version": "1.5.0",
            "_view_name": "ProgressView",
            "bar_style": "success",
            "description": "100%",
            "description_tooltip": null,
            "layout": "IPY_MODEL_d2c9e77bdfb947c6b84cbb0eed13f3a3",
            "max": 79,
            "min": 0,
            "orientation": "horizontal",
            "style": "IPY_MODEL_cf04dda5adc0402993d4872ae6aa6aa5",
            "value": 79
          }
        },
        "cb4cea1d2f7e4b9d90bac5bd33c90787": {
          "model_module": "@jupyter-widgets/controls",
          "model_name": "HTMLModel",
          "model_module_version": "1.5.0",
          "state": {
            "_dom_classes": [],
            "_model_module": "@jupyter-widgets/controls",
            "_model_module_version": "1.5.0",
            "_model_name": "HTMLModel",
            "_view_count": null,
            "_view_module": "@jupyter-widgets/controls",
            "_view_module_version": "1.5.0",
            "_view_name": "HTMLView",
            "description": "",
            "description_tooltip": null,
            "layout": "IPY_MODEL_bf17651368d64a7383f79c6609a21e53",
            "placeholder": "​",
            "style": "IPY_MODEL_2a41a3b7d66a4e539f396e761ef5129d",
            "value": " 79/79 [08:41&lt;00:00,  6.60s/it]"
          }
        },
        "7d3403a5ae9d44c59c92830851c262b4": {
          "model_module": "@jupyter-widgets/base",
          "model_name": "LayoutModel",
          "model_module_version": "1.2.0",
          "state": {
            "_model_module": "@jupyter-widgets/base",
            "_model_module_version": "1.2.0",
            "_model_name": "LayoutModel",
            "_view_count": null,
            "_view_module": "@jupyter-widgets/base",
            "_view_module_version": "1.2.0",
            "_view_name": "LayoutView",
            "align_content": null,
            "align_items": null,
            "align_self": null,
            "border": null,
            "bottom": null,
            "display": null,
            "flex": null,
            "flex_flow": null,
            "grid_area": null,
            "grid_auto_columns": null,
            "grid_auto_flow": null,
            "grid_auto_rows": null,
            "grid_column": null,
            "grid_gap": null,
            "grid_row": null,
            "grid_template_areas": null,
            "grid_template_columns": null,
            "grid_template_rows": null,
            "height": null,
            "justify_content": null,
            "justify_items": null,
            "left": null,
            "margin": null,
            "max_height": null,
            "max_width": null,
            "min_height": null,
            "min_width": null,
            "object_fit": null,
            "object_position": null,
            "order": null,
            "overflow": null,
            "overflow_x": null,
            "overflow_y": null,
            "padding": null,
            "right": null,
            "top": null,
            "visibility": null,
            "width": null
          }
        },
        "d2c9e77bdfb947c6b84cbb0eed13f3a3": {
          "model_module": "@jupyter-widgets/base",
          "model_name": "LayoutModel",
          "model_module_version": "1.2.0",
          "state": {
            "_model_module": "@jupyter-widgets/base",
            "_model_module_version": "1.2.0",
            "_model_name": "LayoutModel",
            "_view_count": null,
            "_view_module": "@jupyter-widgets/base",
            "_view_module_version": "1.2.0",
            "_view_name": "LayoutView",
            "align_content": null,
            "align_items": null,
            "align_self": null,
            "border": null,
            "bottom": null,
            "display": null,
            "flex": null,
            "flex_flow": null,
            "grid_area": null,
            "grid_auto_columns": null,
            "grid_auto_flow": null,
            "grid_auto_rows": null,
            "grid_column": null,
            "grid_gap": null,
            "grid_row": null,
            "grid_template_areas": null,
            "grid_template_columns": null,
            "grid_template_rows": null,
            "height": null,
            "justify_content": null,
            "justify_items": null,
            "left": null,
            "margin": null,
            "max_height": null,
            "max_width": null,
            "min_height": null,
            "min_width": null,
            "object_fit": null,
            "object_position": null,
            "order": null,
            "overflow": null,
            "overflow_x": null,
            "overflow_y": null,
            "padding": null,
            "right": null,
            "top": null,
            "visibility": null,
            "width": null
          }
        },
        "cf04dda5adc0402993d4872ae6aa6aa5": {
          "model_module": "@jupyter-widgets/controls",
          "model_name": "ProgressStyleModel",
          "model_module_version": "1.5.0",
          "state": {
            "_model_module": "@jupyter-widgets/controls",
            "_model_module_version": "1.5.0",
            "_model_name": "ProgressStyleModel",
            "_view_count": null,
            "_view_module": "@jupyter-widgets/base",
            "_view_module_version": "1.2.0",
            "_view_name": "StyleView",
            "bar_color": null,
            "description_width": "initial"
          }
        },
        "bf17651368d64a7383f79c6609a21e53": {
          "model_module": "@jupyter-widgets/base",
          "model_name": "LayoutModel",
          "model_module_version": "1.2.0",
          "state": {
            "_model_module": "@jupyter-widgets/base",
            "_model_module_version": "1.2.0",
            "_model_name": "LayoutModel",
            "_view_count": null,
            "_view_module": "@jupyter-widgets/base",
            "_view_module_version": "1.2.0",
            "_view_name": "LayoutView",
            "align_content": null,
            "align_items": null,
            "align_self": null,
            "border": null,
            "bottom": null,
            "display": null,
            "flex": null,
            "flex_flow": null,
            "grid_area": null,
            "grid_auto_columns": null,
            "grid_auto_flow": null,
            "grid_auto_rows": null,
            "grid_column": null,
            "grid_gap": null,
            "grid_row": null,
            "grid_template_areas": null,
            "grid_template_columns": null,
            "grid_template_rows": null,
            "height": null,
            "justify_content": null,
            "justify_items": null,
            "left": null,
            "margin": null,
            "max_height": null,
            "max_width": null,
            "min_height": null,
            "min_width": null,
            "object_fit": null,
            "object_position": null,
            "order": null,
            "overflow": null,
            "overflow_x": null,
            "overflow_y": null,
            "padding": null,
            "right": null,
            "top": null,
            "visibility": null,
            "width": null
          }
        },
        "2a41a3b7d66a4e539f396e761ef5129d": {
          "model_module": "@jupyter-widgets/controls",
          "model_name": "DescriptionStyleModel",
          "model_module_version": "1.5.0",
          "state": {
            "_model_module": "@jupyter-widgets/controls",
            "_model_module_version": "1.5.0",
            "_model_name": "DescriptionStyleModel",
            "_view_count": null,
            "_view_module": "@jupyter-widgets/base",
            "_view_module_version": "1.2.0",
            "_view_name": "StyleView",
            "description_width": ""
          }
        },
        "7077b75cc2094675bc2502b2c1f76074": {
          "model_module": "@jupyter-widgets/controls",
          "model_name": "HBoxModel",
          "model_module_version": "1.5.0",
          "state": {
            "_dom_classes": [],
            "_model_module": "@jupyter-widgets/controls",
            "_model_module_version": "1.5.0",
            "_model_name": "HBoxModel",
            "_view_count": null,
            "_view_module": "@jupyter-widgets/controls",
            "_view_module_version": "1.5.0",
            "_view_name": "HBoxView",
            "box_style": "",
            "children": [
              "IPY_MODEL_3db161d9c741476ca5dcebd0c79d9986",
              "IPY_MODEL_7d49567150804bf7bf3ae081c30b7d0e"
            ],
            "layout": "IPY_MODEL_53e460f1e1a9438293a94a7edbbec540"
          }
        },
        "3db161d9c741476ca5dcebd0c79d9986": {
          "model_module": "@jupyter-widgets/controls",
          "model_name": "FloatProgressModel",
          "model_module_version": "1.5.0",
          "state": {
            "_dom_classes": [],
            "_model_module": "@jupyter-widgets/controls",
            "_model_module_version": "1.5.0",
            "_model_name": "FloatProgressModel",
            "_view_count": null,
            "_view_module": "@jupyter-widgets/controls",
            "_view_module_version": "1.5.0",
            "_view_name": "ProgressView",
            "bar_style": "success",
            "description": "100%",
            "description_tooltip": null,
            "layout": "IPY_MODEL_7b1a5d0d091046baab170f4216dfa4a1",
            "max": 5000,
            "min": 0,
            "orientation": "horizontal",
            "style": "IPY_MODEL_87c2323af79444c9adda6c7aba201367",
            "value": 5000
          }
        },
        "7d49567150804bf7bf3ae081c30b7d0e": {
          "model_module": "@jupyter-widgets/controls",
          "model_name": "HTMLModel",
          "model_module_version": "1.5.0",
          "state": {
            "_dom_classes": [],
            "_model_module": "@jupyter-widgets/controls",
            "_model_module_version": "1.5.0",
            "_model_name": "HTMLModel",
            "_view_count": null,
            "_view_module": "@jupyter-widgets/controls",
            "_view_module_version": "1.5.0",
            "_view_name": "HTMLView",
            "description": "",
            "description_tooltip": null,
            "layout": "IPY_MODEL_73e6d1e335e94bc98b285c41ef7cb35b",
            "placeholder": "​",
            "style": "IPY_MODEL_228e3f6a677d410dbe5cec75bf1bc5b8",
            "value": " 5000/5000 [00:12&lt;00:00, 386.48it/s]"
          }
        },
        "53e460f1e1a9438293a94a7edbbec540": {
          "model_module": "@jupyter-widgets/base",
          "model_name": "LayoutModel",
          "model_module_version": "1.2.0",
          "state": {
            "_model_module": "@jupyter-widgets/base",
            "_model_module_version": "1.2.0",
            "_model_name": "LayoutModel",
            "_view_count": null,
            "_view_module": "@jupyter-widgets/base",
            "_view_module_version": "1.2.0",
            "_view_name": "LayoutView",
            "align_content": null,
            "align_items": null,
            "align_self": null,
            "border": null,
            "bottom": null,
            "display": null,
            "flex": null,
            "flex_flow": null,
            "grid_area": null,
            "grid_auto_columns": null,
            "grid_auto_flow": null,
            "grid_auto_rows": null,
            "grid_column": null,
            "grid_gap": null,
            "grid_row": null,
            "grid_template_areas": null,
            "grid_template_columns": null,
            "grid_template_rows": null,
            "height": null,
            "justify_content": null,
            "justify_items": null,
            "left": null,
            "margin": null,
            "max_height": null,
            "max_width": null,
            "min_height": null,
            "min_width": null,
            "object_fit": null,
            "object_position": null,
            "order": null,
            "overflow": null,
            "overflow_x": null,
            "overflow_y": null,
            "padding": null,
            "right": null,
            "top": null,
            "visibility": null,
            "width": null
          }
        },
        "7b1a5d0d091046baab170f4216dfa4a1": {
          "model_module": "@jupyter-widgets/base",
          "model_name": "LayoutModel",
          "model_module_version": "1.2.0",
          "state": {
            "_model_module": "@jupyter-widgets/base",
            "_model_module_version": "1.2.0",
            "_model_name": "LayoutModel",
            "_view_count": null,
            "_view_module": "@jupyter-widgets/base",
            "_view_module_version": "1.2.0",
            "_view_name": "LayoutView",
            "align_content": null,
            "align_items": null,
            "align_self": null,
            "border": null,
            "bottom": null,
            "display": null,
            "flex": null,
            "flex_flow": null,
            "grid_area": null,
            "grid_auto_columns": null,
            "grid_auto_flow": null,
            "grid_auto_rows": null,
            "grid_column": null,
            "grid_gap": null,
            "grid_row": null,
            "grid_template_areas": null,
            "grid_template_columns": null,
            "grid_template_rows": null,
            "height": null,
            "justify_content": null,
            "justify_items": null,
            "left": null,
            "margin": null,
            "max_height": null,
            "max_width": null,
            "min_height": null,
            "min_width": null,
            "object_fit": null,
            "object_position": null,
            "order": null,
            "overflow": null,
            "overflow_x": null,
            "overflow_y": null,
            "padding": null,
            "right": null,
            "top": null,
            "visibility": null,
            "width": null
          }
        },
        "87c2323af79444c9adda6c7aba201367": {
          "model_module": "@jupyter-widgets/controls",
          "model_name": "ProgressStyleModel",
          "model_module_version": "1.5.0",
          "state": {
            "_model_module": "@jupyter-widgets/controls",
            "_model_module_version": "1.5.0",
            "_model_name": "ProgressStyleModel",
            "_view_count": null,
            "_view_module": "@jupyter-widgets/base",
            "_view_module_version": "1.2.0",
            "_view_name": "StyleView",
            "bar_color": null,
            "description_width": "initial"
          }
        },
        "73e6d1e335e94bc98b285c41ef7cb35b": {
          "model_module": "@jupyter-widgets/base",
          "model_name": "LayoutModel",
          "model_module_version": "1.2.0",
          "state": {
            "_model_module": "@jupyter-widgets/base",
            "_model_module_version": "1.2.0",
            "_model_name": "LayoutModel",
            "_view_count": null,
            "_view_module": "@jupyter-widgets/base",
            "_view_module_version": "1.2.0",
            "_view_name": "LayoutView",
            "align_content": null,
            "align_items": null,
            "align_self": null,
            "border": null,
            "bottom": null,
            "display": null,
            "flex": null,
            "flex_flow": null,
            "grid_area": null,
            "grid_auto_columns": null,
            "grid_auto_flow": null,
            "grid_auto_rows": null,
            "grid_column": null,
            "grid_gap": null,
            "grid_row": null,
            "grid_template_areas": null,
            "grid_template_columns": null,
            "grid_template_rows": null,
            "height": null,
            "justify_content": null,
            "justify_items": null,
            "left": null,
            "margin": null,
            "max_height": null,
            "max_width": null,
            "min_height": null,
            "min_width": null,
            "object_fit": null,
            "object_position": null,
            "order": null,
            "overflow": null,
            "overflow_x": null,
            "overflow_y": null,
            "padding": null,
            "right": null,
            "top": null,
            "visibility": null,
            "width": null
          }
        },
        "228e3f6a677d410dbe5cec75bf1bc5b8": {
          "model_module": "@jupyter-widgets/controls",
          "model_name": "DescriptionStyleModel",
          "model_module_version": "1.5.0",
          "state": {
            "_model_module": "@jupyter-widgets/controls",
            "_model_module_version": "1.5.0",
            "_model_name": "DescriptionStyleModel",
            "_view_count": null,
            "_view_module": "@jupyter-widgets/base",
            "_view_module_version": "1.2.0",
            "_view_name": "StyleView",
            "description_width": ""
          }
        }
      }
    }
  },
  "cells": [
    {
      "cell_type": "code",
      "metadata": {
        "id": "0yONnzgQlkfK",
        "colab": {
          "base_uri": "https://localhost:8080/"
        },
        "cellView": "form",
        "outputId": "74176d1e-6e5b-4a63-9382-2f45c9ccffb8"
      },
      "source": [
        "# @title Import Requirements\n",
        "from IPython.display import clear_output\n",
        "import os\n",
        "import io\n",
        "import random\n",
        "\n",
        "import numpy as np\n",
        "import seaborn as sns\n",
        "import matplotlib.pyplot as plt\n",
        "from sklearn.metrics.pairwise import cosine_similarity\n",
        "from sklearn.metrics.pairwise import pairwise_distances\n",
        "\n",
        "from tqdm.notebook import tqdm\n",
        "\n",
        "import torch\n",
        "\n",
        "# Local Import\n",
        "from modeling_bert import BertModel\n",
        "\n",
        "from transformers import (\n",
        "    BertConfig,\n",
        "    BertTokenizer,\n",
        ")\n",
        "\n",
        "SELECTED_GPU = 0\n",
        "if torch.cuda.is_available():    \n",
        "  # Tell PyTorch to use the GPU.    \n",
        "  device = torch.device(\"cuda:{}\".format(SELECTED_GPU))\n",
        "  print('There are %d GPU(s) available.' % torch.cuda.device_count())\n",
        "  print('We will use the GPU:', torch.cuda.get_device_name(SELECTED_GPU))\n"
      ],
      "execution_count": null,
      "outputs": [
        {
          "output_type": "stream",
          "text": [
            "There are 2 GPU(s) available.\n",
            "We will use the GPU: GeForce RTX 2080 Ti\n"
          ],
          "name": "stdout"
        }
      ]
    },
    {
      "cell_type": "code",
      "metadata": {
        "id": "82kxz3GNl0gy",
        "colab": {
          "base_uri": "https://localhost:8080/"
        },
        "outputId": "8165c671-9f66-435e-aea8-6d6f16610302"
      },
      "source": [
        "fdir = '/home/username/NLP/Data/SentEval/data/probing/'    \n",
        "BATCH_SIZE = 64\n",
        "MAX_LENGTH = 48\n",
        "NUM_HEAD = 12\n",
        "\n",
        "TASK_NAME = 'bigram_shift.txt'\n",
        "\n",
        "CLASSIFIER_MODEL_FPATH = '/home/username/NLP/Models/SentEvalAnalysis/BERT_AVG_Classifiers/'\n",
        "\n",
        "pretrained_loc = \"bert-base-uncased\"\n",
        "print(\"Running with:\", pretrained_loc)"
      ],
      "execution_count": null,
      "outputs": [
        {
          "output_type": "stream",
          "text": [
            "Running with: bert-base-uncased\n"
          ],
          "name": "stdout"
        }
      ]
    },
    {
      "cell_type": "code",
      "metadata": {
        "id": "CZwyn_yuna7Y",
        "cellView": "form"
      },
      "source": [
        "#@title Required Functions & Classes\n",
        "def load_probing_data(fpath, additive=''):\n",
        "    task_data = {'train': {'X': [], 'y': []},\n",
        "                 'dev': {'X': [], 'y': []},\n",
        "                 'test': {'X': [], 'y': []}}\n",
        "\n",
        "\n",
        "    tok2split = {'tr': 'train', 'va': 'dev', 'te': 'test'}\n",
        "    with io.open(fpath, 'r', encoding='utf-8') as f:\n",
        "        for line in f:\n",
        "            line = line.rstrip().split('\\t')\n",
        "            task_data[tok2split[line[0]]]['X'].append(additive + line[-1])\n",
        "            task_data[tok2split[line[0]]]['y'].append(line[1])\n",
        "\n",
        "        if fpath == '~/NLP/Data/SentEval/data/probing/tree_depth.txt':\n",
        "            labels = ['5', '6', '7', '8', '9', '10', '11']\n",
        "            tok2label = dict(zip(labels, [0, 1. / 6, 2. / 6, 3. / 6, 4. / 6, 5. / 6, 1]))\n",
        "        else:\n",
        "            labels = sorted(np.unique(task_data['train']['y']))\n",
        "            tok2label = dict(zip(labels, range(len(labels))))\n",
        "        nclasses = len(tok2label)\n",
        "\n",
        "        for split in task_data:\n",
        "            for i, y in enumerate(task_data[split]['y']):\n",
        "                task_data[split]['y'][i] = tok2label[y]\n",
        "\n",
        "    return task_data, tok2label, nclasses\n",
        "\n",
        "class BertReprProbing(torch.nn.Module):\n",
        "    def __init__(self, bert_model, **kwargs):\n",
        "        super(BertReprProbing, self).__init__()\n",
        "        self.bert = bert_model\n",
        "\n",
        "    def forward(self, input_ids, attention_mask):\n",
        "      with torch.no_grad():\n",
        "        _, _, middle_hidden_states, middle_attentions, middle_norms = self.bert(input_ids, attention_mask,\n",
        "                                                                            output_hidden_states=True,\n",
        "                                                                            output_attentions=True,\n",
        "                                                                            output_norms=True)\n",
        "\n",
        "        hidden_states = []\n",
        "        attentions = []\n",
        "        fx_norms = []\n",
        "        afx_norms = []\n",
        "        summed_afx_norms = []\n",
        "        for i in range(12):\n",
        "            hidden_states.append(middle_hidden_states[i+1])\n",
        "            attentions.append(middle_attentions[i])\n",
        "            fx_norms.append(middle_norms[i][0])\n",
        "            afx_norms.append(middle_norms[i][1])\n",
        "            summed_afx_norms.append(middle_norms[i][2])\n",
        "        return (torch.stack(hidden_states),\n",
        "                torch.stack(attentions), \n",
        "                torch.stack(fx_norms), torch.stack(afx_norms), torch.stack(summed_afx_norms))\n",
        "        # output form:\n",
        "        # (12-layer-representations, 12-layer-attentions,\n",
        "        #  12-layer-fx_norms, 12-layer-afx_norms, 12-layer-summed_afx_norms)\n"
      ],
      "execution_count": null,
      "outputs": []
    },
    {
      "cell_type": "code",
      "metadata": {
        "id": "RA9rpC2_nDxH",
        "colab": {
          "base_uri": "https://localhost:8080/"
        },
        "cellView": "form",
        "outputId": "67c9e273-e9d2-4949-b5b7-be48a5e9eaad"
      },
      "source": [
        "# @title Load BERT Model\n",
        "tokenizer = BertTokenizer.from_pretrained(\"bert-base-uncased\")\n",
        "loaded_model = BertModel.from_pretrained(\"bert-base-uncased\").to(device)\n",
        "loaded_model.eval()\n",
        "\n",
        "probing_model = BertReprProbing(loaded_model)\n",
        "clear_output()\n",
        "print(\"Done!\")"
      ],
      "execution_count": null,
      "outputs": [
        {
          "output_type": "stream",
          "text": [
            "Done!\n"
          ],
          "name": "stdout"
        }
      ]
    },
    {
      "cell_type": "code",
      "metadata": {
        "id": "yPlPq4Gf0z0p"
      },
      "source": [
        "def index_to_id(example, target_pos):\n",
        "  pos = 1 # 1 for counting CLS\n",
        "  for index in range(target_pos):\n",
        "    pos += len(tokenizer.encode(example[index], add_special_tokens=False))\n",
        "  return list(range(pos, pos+len(tokenizer.encode(example[target_pos], add_special_tokens=False))))"
      ],
      "execution_count": null,
      "outputs": []
    },
    {
      "cell_type": "code",
      "metadata": {
        "id": "MqhhNR_-N-Yh"
      },
      "source": [
        "PUNC = [\".\", \",\", \"!\", \"@\", \"#\", \"$\", \"%\", \"&\", \"*\", \"(\", \")\", \"'\", \"\\\"\", \";\", \":\", \"?\", \"<\", \">\", \"{\", \"}\", \"[\", \"]\", \"\\\\\", \"/\", \"?\"]"
      ],
      "execution_count": null,
      "outputs": []
    },
    {
      "cell_type": "code",
      "metadata": {
        "id": "Oic348nZAWRM",
        "colab": {
          "base_uri": "https://localhost:8080/",
          "height": 100,
          "referenced_widgets": [
            "a2490ac2260645818fc706589a91ba77",
            "62e54168de3a4c0d91b73985cb90e1be",
            "cb4cea1d2f7e4b9d90bac5bd33c90787",
            "7d3403a5ae9d44c59c92830851c262b4",
            "d2c9e77bdfb947c6b84cbb0eed13f3a3",
            "cf04dda5adc0402993d4872ae6aa6aa5",
            "bf17651368d64a7383f79c6609a21e53",
            "2a41a3b7d66a4e539f396e761ef5129d"
          ]
        },
        "cellView": "form",
        "outputId": "67b38f96-6885-411c-c5b4-67bde5336c79"
      },
      "source": [
        "# @title Probe Feature Extraction\n",
        "np.random.seed(15)\n",
        "\n",
        "probe_path = fdir + TASK_NAME\n",
        "task_data, tok2label, nclasses = load_probing_data(probe_path)\n",
        "print(\"Probe Loaded:\", TASK_NAME)\n",
        "\n",
        "del task_data['train']\n",
        "del task_data['dev']\n",
        "\n",
        "# Keep Only Original Examples\n",
        "\n",
        "inverted_data = []\n",
        "original_data = []\n",
        "first_position = []\n",
        "second_position = []\n",
        "\n",
        "for data in zip(task_data['test']['X'], task_data['test']['y']):\n",
        "  example, label = data\n",
        "  if label == 0:\n",
        "    continue\n",
        "\n",
        "  original_data.append(example)  \n",
        "  chunked = example.split()\n",
        "\n",
        "  while(True):\n",
        "    bi_pos = np.random.randint(low=1, high=len(chunked)-1)\n",
        "    if chunked[bi_pos] not in PUNC and chunked[bi_pos+1] not in PUNC:\n",
        "      break\n",
        "    \n",
        "  \n",
        "  first_position.append(index_to_id(chunked, bi_pos))\n",
        "  second_position.append(index_to_id(chunked, bi_pos+1))\n",
        "\n",
        "  chunked[bi_pos], chunked[bi_pos+1] = chunked[bi_pos+1], chunked[bi_pos]\n",
        "  chunked = ' '.join(chunked)\n",
        "\n",
        "  inverted_data.append(chunked)\n",
        "\n",
        "\n",
        "no_examples = len(original_data)\n",
        "steps = int(np.ceil(no_examples / BATCH_SIZE))\n",
        "\n",
        "attentions = np.zeros((12, no_examples, NUM_HEAD, MAX_LENGTH, MAX_LENGTH), dtype=np.float32)\n",
        "inverted_attentions = np.zeros((12, no_examples, NUM_HEAD, MAX_LENGTH, MAX_LENGTH), dtype=np.float32)\n",
        "fx_norms = np.zeros((12, no_examples, NUM_HEAD, MAX_LENGTH), dtype=np.float32)\n",
        "afx_norms = np.zeros((12, no_examples, NUM_HEAD, MAX_LENGTH, MAX_LENGTH), dtype=np.float32)\n",
        "summed_afx_norms = np.zeros((12, no_examples, MAX_LENGTH, MAX_LENGTH), dtype=np.float32)\n",
        "inverted_fx_norms = np.zeros((12, no_examples, NUM_HEAD, MAX_LENGTH), dtype=np.float32)\n",
        "inverted_afx_norms = np.zeros((12, no_examples, NUM_HEAD, MAX_LENGTH, MAX_LENGTH), dtype=np.float32)\n",
        "inverted_summed_afx_norms = np.zeros((12, no_examples, MAX_LENGTH, MAX_LENGTH), dtype=np.float32)\n",
        "\n",
        "hidden_representations = np.zeros((12, no_examples, MAX_LENGTH, 768), dtype=np.float32)\n",
        "inverted_hidden_representations = np.zeros((12, no_examples, MAX_LENGTH, 768), dtype=np.float32)\n",
        "token_ids = np.zeros((no_examples, MAX_LENGTH), dtype=np.int32)\n",
        "inverted_token_ids = np.zeros((no_examples, MAX_LENGTH), dtype=np.int32)\n",
        "att_masks = np.zeros((no_examples, MAX_LENGTH), dtype=np.int32)\n",
        "\n",
        "print(\"Starting probe feature extraction:\", TASK_NAME)\n",
        "\n",
        "for i in tqdm(range(steps)):\n",
        "    tokens_batched = tokenizer.batch_encode_plus(original_data[i * BATCH_SIZE:min((i + 1) * BATCH_SIZE, no_examples)],\n",
        "                                                 max_length=MAX_LENGTH,\n",
        "                                                 return_tensors='pt',\n",
        "                                                 truncation=True,\n",
        "                                                 padding='max_length')\n",
        "    \n",
        "    input_ids = tokens_batched['input_ids'].numpy()\n",
        "    attention_mask = tokens_batched['attention_mask'].numpy()\n",
        "\n",
        "    hidden, attn, fx_norm, afx_norm, summed_afx_norm = probing_model(tokens_batched['input_ids'].to(device), tokens_batched['attention_mask'].to(device))\n",
        "    \n",
        "    hidden_representations[:,\n",
        "    i * BATCH_SIZE:(i + 1) * BATCH_SIZE, :, :] = hidden.cpu().numpy()\n",
        "\n",
        "    attentions[:,\n",
        "    i * BATCH_SIZE:(i + 1) * BATCH_SIZE, :, :, :] = attn.cpu().numpy()\n",
        "\n",
        "    fx_norms[:,\n",
        "    i * BATCH_SIZE:(i + 1) * BATCH_SIZE, :, :] = fx_norm.cpu().numpy()\n",
        "\n",
        "    afx_norms[:,\n",
        "    i * BATCH_SIZE:(i + 1) * BATCH_SIZE, :, :, :] = afx_norm.cpu().numpy()\n",
        "\n",
        "    summed_afx_norms[:,\n",
        "    i * BATCH_SIZE:(i + 1) * BATCH_SIZE, :, :] = summed_afx_norm.cpu().numpy()\n",
        "    \n",
        "\n",
        "    att_masks[i * BATCH_SIZE:(i + 1) * BATCH_SIZE, :] = attention_mask\n",
        "    token_ids[i * BATCH_SIZE:(i + 1) * BATCH_SIZE, :] = input_ids\n",
        "\n",
        "\n",
        "\n",
        "    tokens_batched = tokenizer.batch_encode_plus(inverted_data[i * BATCH_SIZE:min((i + 1) * BATCH_SIZE, no_examples)],\n",
        "                                                 max_length=MAX_LENGTH,\n",
        "                                                 return_tensors='pt',\n",
        "                                                 truncation=True,\n",
        "                                                 padding='max_length')\n",
        "    \n",
        "    input_ids = tokens_batched['input_ids'].numpy()\n",
        "    attention_mask = tokens_batched['attention_mask'].numpy()\n",
        "\n",
        "    hidden, attn, fx_norm, afx_norm, summed_afx_norm = probing_model(tokens_batched['input_ids'].to(device), tokens_batched['attention_mask'].to(device))\n",
        "\n",
        "    inverted_hidden_representations[:,\n",
        "    i * BATCH_SIZE:(i + 1) * BATCH_SIZE, :, :] = hidden.cpu().numpy()\n",
        "\n",
        "    inverted_attentions[:,\n",
        "    i * BATCH_SIZE:(i + 1) * BATCH_SIZE, :, :, :] = attn.cpu().numpy()\n",
        "\n",
        "    inverted_fx_norms[:,\n",
        "    i * BATCH_SIZE:(i + 1) * BATCH_SIZE, :, :] = fx_norm.cpu().numpy()\n",
        "\n",
        "    inverted_afx_norms[:,\n",
        "    i * BATCH_SIZE:(i + 1) * BATCH_SIZE, :, :, :] = afx_norm.cpu().numpy()\n",
        "\n",
        "    inverted_summed_afx_norms[:,\n",
        "    i * BATCH_SIZE:(i + 1) * BATCH_SIZE, :, :] = summed_afx_norm.cpu().numpy()\n",
        "\n",
        "    inverted_token_ids[i * BATCH_SIZE:(i + 1) * BATCH_SIZE, :] = input_ids\n",
        "\n",
        "                                                                                                                    "
      ],
      "execution_count": null,
      "outputs": [
        {
          "output_type": "stream",
          "text": [
            "Probe Loaded: bigram_shift.txt\n",
            "Starting probe feature extraction: bigram_shift.txt\n"
          ],
          "name": "stdout"
        },
        {
          "output_type": "display_data",
          "data": {
            "text/plain": [
              "HBox(children=(FloatProgress(value=0.0, max=79.0), HTML(value='')))"
            ],
            "application/vnd.jupyter.widget-view+json": {
              "version_major": 2,
              "version_minor": 0,
              "model_id": "a2490ac2260645818fc706589a91ba77"
            }
          },
          "metadata": {
            "tags": []
          }
        },
        {
          "output_type": "stream",
          "text": [
            "\n"
          ],
          "name": "stdout"
        }
      ]
    },
    {
      "cell_type": "markdown",
      "metadata": {
        "id": "cQymdXvWKfsC"
      },
      "source": [
        "#Inflammation"
      ]
    },
    {
      "cell_type": "code",
      "metadata": {
        "id": "q8bvKe3sYuXh",
        "cellView": "form"
      },
      "source": [
        "# @title Align\n",
        "def align_attn_heatmap(A, first_pos, second_pos):\n",
        "  B = np.vstack((A[:first_pos[0], :], A[second_pos[0]:second_pos[-1]+1, :], A[first_pos[0]:first_pos[-1]+1, :], A[second_pos[-1]+1:, :]))\n",
        "  return np.hstack((B[:, :first_pos[0]], B[:, second_pos[0]:second_pos[-1]+1], B[:, first_pos[0]:first_pos[-1]+1], B[:, second_pos[-1]+1:]))"
      ],
      "execution_count": null,
      "outputs": []
    },
    {
      "cell_type": "code",
      "metadata": {
        "colab": {
          "base_uri": "https://localhost:8080/",
          "height": 1000
        },
        "id": "HAVjkfrmCENp",
        "cellView": "form",
        "outputId": "ae1e9373-b82d-4444-bea3-a73f2940a6fd"
      },
      "source": [
        "# @title Sigma Alpha Norm\n",
        "layer =  2#@param {type:\"integer\"}\n",
        "ex =  517#@param {type:\"integer\"}\n",
        "\n",
        "plt.rcParams['figure.dpi'] = 120\n",
        "\n",
        "A = summed_afx_norms[layer][ex]\n",
        "D = inverted_summed_afx_norms[layer][ex]\n",
        "B = align_attn_heatmap(D, first_position[ex], second_position[ex])\n",
        "\n",
        "tokens = tokenizer.tokenize(original_data[ex])\n",
        "ticks = len(tokens) + 2\n",
        "print(tokens)\n",
        "print(first_position[ex], second_position[ex])\n",
        "A = A[:np.sum(att_masks[ex]), :np.sum(att_masks[ex])]\n",
        "\n",
        "plt.figure(figsize=(3.5,3.5))\n",
        "plt.title(r\"$\\bf{(a)}$\" + \" Original\", size=15)\n",
        "ax = sns.heatmap(A, cmap=\"YlGnBu\", cbar=False)\n",
        "plt.xticks(np.arange(ticks)+0.5, ['[CLS]'] + tokens + ['[SEP]'], rotation=90, size=14)\n",
        "plt.yticks(np.arange(ticks)+0.5, ['[CLS]'] + tokens + ['[SEP]'], rotation=0, size=14)\n",
        "ax.get_xticklabels()[5].set_color(\"green\")\n",
        "ax.get_xticklabels()[6].set_color(\"darkblue\")\n",
        "ax.get_xticklabels()[5].set_fontweight(\"bold\")\n",
        "ax.get_xticklabels()[6].set_fontweight(\"bold\")\n",
        "\n",
        "ax.get_yticklabels()[5].set_color(\"green\")\n",
        "ax.get_yticklabels()[6].set_color(\"darkblue\")\n",
        "ax.get_yticklabels()[5].set_fontweight(\"bold\")\n",
        "ax.get_yticklabels()[6].set_fontweight(\"bold\")\n",
        "plt.show()\n",
        "\n",
        "inv_tokens = tokenizer.tokenize(inverted_data[ex])\n",
        "D = D[:np.sum(att_masks[ex]), :np.sum(att_masks[ex])]\n",
        "\n",
        "plt.figure(figsize=(3.5,3.5))\n",
        "plt.title(r\"$\\bf{(b)}$\" + \" Inverted\", size=15)\n",
        "ax = sns.heatmap(D, cmap=\"YlGnBu\", cbar=False)\n",
        "plt.xticks(np.arange(ticks)+0.5, ['[CLS]'] + inv_tokens + ['[SEP]'], rotation=90, size=14)\n",
        "plt.yticks(np.arange(ticks)+0.5, ['[CLS]'] + inv_tokens + ['[SEP]'], rotation=0, size=14)\n",
        "ax.get_xticklabels()[6].set_color(\"green\")\n",
        "ax.get_xticklabels()[5].set_color(\"darkblue\")\n",
        "ax.get_xticklabels()[6].set_fontweight(\"bold\")\n",
        "ax.get_xticklabels()[5].set_fontweight(\"bold\")\n",
        "\n",
        "ax.get_yticklabels()[6].set_color(\"green\")\n",
        "ax.get_yticklabels()[5].set_color(\"darkblue\")\n",
        "ax.get_yticklabels()[6].set_fontweight(\"bold\")\n",
        "ax.get_yticklabels()[5].set_fontweight(\"bold\")\n",
        "plt.show()\n",
        "\n",
        "print(tokenizer.tokenize(inverted_data[ex]))\n",
        "B = B[:np.sum(att_masks[ex]), :np.sum(att_masks[ex])]\n",
        "plt.figure(figsize=(3.5,3.5))\n",
        "plt.title(r\"$\\bf{(c)}$\" + \" Inverted Reordered\", size=15)\n",
        "ax = sns.heatmap(B, cmap=\"YlGnBu\", cbar=False)\n",
        "plt.xticks(np.arange(ticks)+0.5, ['[CLS]'] + tokens + ['[SEP]'], rotation=90, size=14)\n",
        "plt.yticks(np.arange(ticks)+0.5, ['[CLS]'] + tokens + ['[SEP]'], rotation=0, size=14)\n",
        "ax.get_xticklabels()[5].set_color(\"green\")\n",
        "ax.get_xticklabels()[6].set_color(\"darkblue\")\n",
        "ax.get_xticklabels()[5].set_fontweight(\"bold\")\n",
        "ax.get_xticklabels()[6].set_fontweight(\"bold\")\n",
        "\n",
        "ax.get_yticklabels()[5].set_color(\"green\")\n",
        "ax.get_yticklabels()[6].set_color(\"darkblue\")\n",
        "ax.get_yticklabels()[5].set_fontweight(\"bold\")\n",
        "ax.get_yticklabels()[6].set_fontweight(\"bold\")\n",
        "plt.show()\n",
        "\n",
        "plt.figure(figsize=(3.5,3.5))\n",
        "plt.title(r\"$\\bf{(d)}$ $\\Delta_{|\\beta|}\" + ' = $|Inverted Reordered - Original|', size=13.2, loc='right')\n",
        "ax = sns.heatmap(np.abs(B - A), cbar=False, cmap='bone_r')\n",
        "plt.xticks(np.arange(ticks)+0.5, ['[CLS]'] + tokens + ['[SEP]'], rotation=90, size=14)\n",
        "plt.yticks(np.arange(ticks)+0.5, ['[CLS]'] + tokens + ['[SEP]'], rotation=0, size=14)\n",
        "ax.get_xticklabels()[5].set_color(\"green\")\n",
        "ax.get_xticklabels()[6].set_color(\"darkblue\")\n",
        "ax.get_xticklabels()[5].set_fontweight(\"bold\")\n",
        "ax.get_xticklabels()[6].set_fontweight(\"bold\")\n",
        "\n",
        "ax.get_yticklabels()[5].set_color(\"green\")\n",
        "ax.get_yticklabels()[6].set_color(\"darkblue\")\n",
        "ax.get_yticklabels()[5].set_fontweight(\"bold\")\n",
        "ax.get_yticklabels()[6].set_fontweight(\"bold\")\n",
        "\n",
        "ax.axhline(y=0, color='k',linewidth=1)\n",
        "ax.axhline(y=11, color='k',linewidth=1)\n",
        "ax.axvline(x=0, color='k',linewidth=1)\n",
        "ax.axvline(x=11, color='k',linewidth=1)\n",
        "plt.show()"
      ],
      "execution_count": null,
      "outputs": [
        {
          "output_type": "stream",
          "text": [
            "['i', 'don', \"'\", 't', 'know', 'where', 'he', 'is', '.']\n",
            "[5] [6]\n"
          ],
          "name": "stdout"
        },
        {
          "output_type": "display_data",
          "data": {
            "text/plain": [
              "<Figure size 420x420 with 1 Axes>"
            ],
            "image/png": "[encoded data removed]"
          },
          "metadata": {
            "tags": [],
            "needs_background": "light"
          }
        },
        {
          "output_type": "display_data",
          "data": {
            "text/plain": [
              "<Figure size 420x420 with 1 Axes>"
            ],
            "image/png": "[encoded data removed]"
          },
          "metadata": {
            "tags": [],
            "needs_background": "light"
          }
        },
        {
          "output_type": "stream",
          "text": [
            "['i', 'don', \"'\", 't', 'where', 'know', 'he', 'is', '.']\n"
          ],
          "name": "stdout"
        },
        {
          "output_type": "display_data",
          "data": {
            "text/plain": [
              "<Figure size 420x420 with 1 Axes>"
            ],
            "image/png": "[encoded data removed]"
          },
          "metadata": {
            "tags": [],
            "needs_background": "light"
          }
        },
        {
          "output_type": "display_data",
          "data": {
            "text/plain": [
              "<Figure size 420x420 with 1 Axes>"
            ],
            "image/png": "[encoded data removed]"
          },
          "metadata": {
            "tags": [],
            "needs_background": "light"
          }
        }
      ]
    },
    {
      "cell_type": "code",
      "metadata": {
        "id": "UC6N0Is_kETF"
      },
      "source": [
        "attentions_merged_realigned = np.zeros((12, no_examples, 2*MAX_LENGTH, 2*MAX_LENGTH))"
      ],
      "execution_count": null,
      "outputs": []
    },
    {
      "cell_type": "code",
      "metadata": {
        "colab": {
          "base_uri": "https://localhost:8080/",
          "height": 66,
          "referenced_widgets": [
            "7077b75cc2094675bc2502b2c1f76074",
            "3db161d9c741476ca5dcebd0c79d9986",
            "7d49567150804bf7bf3ae081c30b7d0e",
            "53e460f1e1a9438293a94a7edbbec540",
            "7b1a5d0d091046baab170f4216dfa4a1",
            "87c2323af79444c9adda6c7aba201367",
            "73e6d1e335e94bc98b285c41ef7cb35b",
            "228e3f6a677d410dbe5cec75bf1bc5b8"
          ]
        },
        "id": "Pp6eezVxkbo1",
        "outputId": "aeeadcf1-1d1b-42c3-fe65-955d2f564ecb"
      },
      "source": [
        "for ex in tqdm(range(no_examples)):\n",
        "  for layer in range(12):\n",
        "    A = summed_afx_norms[layer][ex]\n",
        "    B = inverted_summed_afx_norms[layer][ex]\n",
        "    B = align_attn_heatmap(B, first_position[ex], second_position[ex])\n",
        "\n",
        "    delta = np.abs(B - A)\n",
        "    bigram = first_position[ex] + second_position[ex]\n",
        "    bigram_start = min(bigram)\n",
        "    bigram_end = max(bigram) + 1\n",
        "    sen_len = np.sum(att_masks[ex])\n",
        "    mask_size = sen_len**2\n",
        "    bigram_size = len(bigram)**2\n",
        "\n",
        "    attentions_merged_realigned[layer, ex][MAX_LENGTH - bigram_start:MAX_LENGTH - bigram_start + sen_len, MAX_LENGTH - bigram_start:MAX_LENGTH - bigram_start + sen_len] = delta[:sen_len, :sen_len].copy()"
      ],
      "execution_count": null,
      "outputs": [
        {
          "output_type": "display_data",
          "data": {
            "text/plain": [
              "HBox(children=(FloatProgress(value=0.0, max=5000.0), HTML(value='')))"
            ],
            "application/vnd.jupyter.widget-view+json": {
              "version_major": 2,
              "version_minor": 0,
              "model_id": "7077b75cc2094675bc2502b2c1f76074"
            }
          },
          "metadata": {
            "tags": []
          }
        },
        {
          "output_type": "stream",
          "text": [
            "\n"
          ],
          "name": "stdout"
        }
      ]
    },
    {
      "cell_type": "code",
      "metadata": {
        "colab": {
          "base_uri": "https://localhost:8080/",
          "height": 384
        },
        "id": "sBg3Y4BwAfc4",
        "outputId": "3861f33b-9254-4bbd-cf35-290354b963f7"
      },
      "source": [
        "side_crop = 37\n",
        "fig = plt.figure(figsize = (30,3))\n",
        "# max = np.max(np.sum(np.mean(attentions_merged_realigned, axis=1)[:11+1, 2+side_crop:-side_crop, 2+side_crop:-side_crop], axis=0)\n",
        "layers = np.arange(12)\n",
        "for idx, i in enumerate(layers):\n",
        "  ax = fig.add_subplot(1, len(layers), idx+1)\n",
        "  ax.set_title(\"Layer \" + str(i+1), size=24)\n",
        "  ax = sns.heatmap(np.sum(np.mean(attentions_merged_realigned, axis=1)[:i+1, 2+side_crop:-side_crop, 2+side_crop:-side_crop], axis=0), ax=ax, cbar=False, cmap='bone_r')\n",
        "  ax.axhline(y=0, color='k',linewidth=1)\n",
        "  ax.axhline(y=20, color='k',linewidth=1)\n",
        "  ax.axvline(x=0, color='k',linewidth=1)\n",
        "  ax.axvline(x=20, color='k',linewidth=1)\n",
        "  ax.set_xticks([])\n",
        "  ax.set_yticks([])\n",
        "plt.tight_layout()\n",
        "plt.show()"
      ],
      "execution_count": null,
      "outputs": [
        {
          "output_type": "display_data",
          "data": {
            "text/plain": [
              "<Figure size 3600x360 with 12 Axes>"
            ],
            "image/png": "[encoded data removed]"
          },
          "metadata": {
            "tags": []
          }
        }
      ]
    },
    {
      "cell_type": "code",
      "metadata": {
        "colab": {
          "base_uri": "https://localhost:8080/",
          "height": 364
        },
        "id": "ckUbl9P0MOZL",
        "outputId": "f70c9c02-de2f-4995-c0aa-676818055000"
      },
      "source": [
        "side_crop = 37\n",
        "fig = plt.figure(figsize = (11,3))\n",
        "# max = np.max(np.sum(np.mean(attentions_merged_realigned, axis=1)[:11+1, 2+side_crop:-side_crop, 2+side_crop:-side_crop], axis=0)\n",
        "layers = [0, 2, 5, 11]\n",
        "for idx, i in enumerate(layers):\n",
        "  ax = fig.add_subplot(1, len(layers), idx+1)\n",
        "  ax.set_title(\"Layer \" + str(i+1), size=24)\n",
        "  ax = sns.heatmap(np.sum(np.mean(attentions_merged_realigned, axis=1)[:i+1, 2+side_crop:-side_crop, 2+side_crop:-side_crop], axis=0), ax=ax, cbar=False, cmap='bone_r')\n",
        "  ax.axhline(y=0, color='k',linewidth=1)\n",
        "  ax.axhline(y=20, color='k',linewidth=1)\n",
        "  ax.axvline(x=0, color='k',linewidth=1)\n",
        "  ax.axvline(x=20, color='k',linewidth=1)\n",
        "  ax.set_xticks([])\n",
        "  ax.set_yticks([])\n",
        "plt.tight_layout()\n",
        "plt.show()"
      ],
      "execution_count": null,
      "outputs": [
        {
          "output_type": "display_data",
          "data": {
            "text/plain": [
              "<Figure size 1320x360 with 4 Axes>"
            ],
            "image/png": "[encoded data removed]"
          },
          "metadata": {
            "tags": []
          }
        }
      ]
    }
  ]
}