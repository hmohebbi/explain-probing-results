{
  "nbformat": 4,
  "nbformat_minor": 0,
  "metadata": {
    "colab": {
      "name": "Teias_Tense_BERT_Control.ipynb",
      "provenance": [],
      "collapsed_sections": []
    },
    "kernelspec": {
      "name": "python3",
      "display_name": "Python 3"
    },
    "language_info": {
      "name": "python"
    },
    "widgets": {
      "application/vnd.jupyter.widget-state+json": {
        "cb62f6216619419ab56bc5e86ae10357": {
          "model_module": "@jupyter-widgets/controls",
          "model_name": "HBoxModel",
          "model_module_version": "1.5.0",
          "state": {
            "_dom_classes": [],
            "_model_module": "@jupyter-widgets/controls",
            "_model_module_version": "1.5.0",
            "_model_name": "HBoxModel",
            "_view_count": null,
            "_view_module": "@jupyter-widgets/controls",
            "_view_module_version": "1.5.0",
            "_view_name": "HBoxView",
            "box_style": "",
            "children": [
              "IPY_MODEL_6e3e6d4d77064f2f9b0e95d2aa9cc68b",
              "IPY_MODEL_03a1d1f0f24b4cb0b85355e36b4c5fea"
            ],
            "layout": "IPY_MODEL_e10954b426fe4bc38c74b1e9a1032f98"
          }
        },
        "6e3e6d4d77064f2f9b0e95d2aa9cc68b": {
          "model_module": "@jupyter-widgets/controls",
          "model_name": "FloatProgressModel",
          "model_module_version": "1.5.0",
          "state": {
            "_dom_classes": [],
            "_model_module": "@jupyter-widgets/controls",
            "_model_module_version": "1.5.0",
            "_model_name": "FloatProgressModel",
            "_view_count": null,
            "_view_module": "@jupyter-widgets/controls",
            "_view_module_version": "1.5.0",
            "_view_name": "ProgressView",
            "bar_style": "success",
            "description": "100%",
            "description_tooltip": null,
            "layout": "IPY_MODEL_1005e1dbd3b64995a84f5ed2a7401b45",
            "max": 40,
            "min": 0,
            "orientation": "horizontal",
            "style": "IPY_MODEL_350e71d7b7484bc08aec12ab806b5302",
            "value": 40
          }
        },
        "03a1d1f0f24b4cb0b85355e36b4c5fea": {
          "model_module": "@jupyter-widgets/controls",
          "model_name": "HTMLModel",
          "model_module_version": "1.5.0",
          "state": {
            "_dom_classes": [],
            "_model_module": "@jupyter-widgets/controls",
            "_model_module_version": "1.5.0",
            "_model_name": "HTMLModel",
            "_view_count": null,
            "_view_module": "@jupyter-widgets/controls",
            "_view_module_version": "1.5.0",
            "_view_name": "HTMLView",
            "description": "",
            "description_tooltip": null,
            "layout": "IPY_MODEL_ff2e3b1e184448a1979ba3611aecbd2b",
            "placeholder": "​",
            "style": "IPY_MODEL_7f265acfd39e456cbb83563313c3e67d",
            "value": " 40/40 [01:06&lt;00:00,  1.67s/it]"
          }
        },
        "e10954b426fe4bc38c74b1e9a1032f98": {
          "model_module": "@jupyter-widgets/base",
          "model_name": "LayoutModel",
          "model_module_version": "1.2.0",
          "state": {
            "_model_module": "@jupyter-widgets/base",
            "_model_module_version": "1.2.0",
            "_model_name": "LayoutModel",
            "_view_count": null,
            "_view_module": "@jupyter-widgets/base",
            "_view_module_version": "1.2.0",
            "_view_name": "LayoutView",
            "align_content": null,
            "align_items": null,
            "align_self": null,
            "border": null,
            "bottom": null,
            "display": null,
            "flex": null,
            "flex_flow": null,
            "grid_area": null,
            "grid_auto_columns": null,
            "grid_auto_flow": null,
            "grid_auto_rows": null,
            "grid_column": null,
            "grid_gap": null,
            "grid_row": null,
            "grid_template_areas": null,
            "grid_template_columns": null,
            "grid_template_rows": null,
            "height": null,
            "justify_content": null,
            "justify_items": null,
            "left": null,
            "margin": null,
            "max_height": null,
            "max_width": null,
            "min_height": null,
            "min_width": null,
            "object_fit": null,
            "object_position": null,
            "order": null,
            "overflow": null,
            "overflow_x": null,
            "overflow_y": null,
            "padding": null,
            "right": null,
            "top": null,
            "visibility": null,
            "width": null
          }
        },
        "1005e1dbd3b64995a84f5ed2a7401b45": {
          "model_module": "@jupyter-widgets/base",
          "model_name": "LayoutModel",
          "model_module_version": "1.2.0",
          "state": {
            "_model_module": "@jupyter-widgets/base",
            "_model_module_version": "1.2.0",
            "_model_name": "LayoutModel",
            "_view_count": null,
            "_view_module": "@jupyter-widgets/base",
            "_view_module_version": "1.2.0",
            "_view_name": "LayoutView",
            "align_content": null,
            "align_items": null,
            "align_self": null,
            "border": null,
            "bottom": null,
            "display": null,
            "flex": null,
            "flex_flow": null,
            "grid_area": null,
            "grid_auto_columns": null,
            "grid_auto_flow": null,
            "grid_auto_rows": null,
            "grid_column": null,
            "grid_gap": null,
            "grid_row": null,
            "grid_template_areas": null,
            "grid_template_columns": null,
            "grid_template_rows": null,
            "height": null,
            "justify_content": null,
            "justify_items": null,
            "left": null,
            "margin": null,
            "max_height": null,
            "max_width": null,
            "min_height": null,
            "min_width": null,
            "object_fit": null,
            "object_position": null,
            "order": null,
            "overflow": null,
            "overflow_x": null,
            "overflow_y": null,
            "padding": null,
            "right": null,
            "top": null,
            "visibility": null,
            "width": null
          }
        },
        "350e71d7b7484bc08aec12ab806b5302": {
          "model_module": "@jupyter-widgets/controls",
          "model_name": "ProgressStyleModel",
          "model_module_version": "1.5.0",
          "state": {
            "_model_module": "@jupyter-widgets/controls",
            "_model_module_version": "1.5.0",
            "_model_name": "ProgressStyleModel",
            "_view_count": null,
            "_view_module": "@jupyter-widgets/base",
            "_view_module_version": "1.2.0",
            "_view_name": "StyleView",
            "bar_color": null,
            "description_width": "initial"
          }
        },
        "ff2e3b1e184448a1979ba3611aecbd2b": {
          "model_module": "@jupyter-widgets/base",
          "model_name": "LayoutModel",
          "model_module_version": "1.2.0",
          "state": {
            "_model_module": "@jupyter-widgets/base",
            "_model_module_version": "1.2.0",
            "_model_name": "LayoutModel",
            "_view_count": null,
            "_view_module": "@jupyter-widgets/base",
            "_view_module_version": "1.2.0",
            "_view_name": "LayoutView",
            "align_content": null,
            "align_items": null,
            "align_self": null,
            "border": null,
            "bottom": null,
            "display": null,
            "flex": null,
            "flex_flow": null,
            "grid_area": null,
            "grid_auto_columns": null,
            "grid_auto_flow": null,
            "grid_auto_rows": null,
            "grid_column": null,
            "grid_gap": null,
            "grid_row": null,
            "grid_template_areas": null,
            "grid_template_columns": null,
            "grid_template_rows": null,
            "height": null,
            "justify_content": null,
            "justify_items": null,
            "left": null,
            "margin": null,
            "max_height": null,
            "max_width": null,
            "min_height": null,
            "min_width": null,
            "object_fit": null,
            "object_position": null,
            "order": null,
            "overflow": null,
            "overflow_x": null,
            "overflow_y": null,
            "padding": null,
            "right": null,
            "top": null,
            "visibility": null,
            "width": null
          }
        },
        "7f265acfd39e456cbb83563313c3e67d": {
          "model_module": "@jupyter-widgets/controls",
          "model_name": "DescriptionStyleModel",
          "model_module_version": "1.5.0",
          "state": {
            "_model_module": "@jupyter-widgets/controls",
            "_model_module_version": "1.5.0",
            "_model_name": "DescriptionStyleModel",
            "_view_count": null,
            "_view_module": "@jupyter-widgets/base",
            "_view_module_version": "1.2.0",
            "_view_name": "StyleView",
            "description_width": ""
          }
        }
      }
    }
  },
  "cells": [
    {
      "cell_type": "code",
      "metadata": {
        "colab": {
          "base_uri": "https://localhost:8080/"
        },
        "id": "RpLBgH329inc",
        "cellView": "form",
        "outputId": "f122fd4d-3ccc-4057-9f7d-df3df494dade"
      },
      "source": [
        "# @title Import Requirements\n",
        "from IPython.display import clear_output\n",
        "import os\n",
        "import io\n",
        "import gc\n",
        "import random\n",
        "import nltk\n",
        "\n",
        "import numpy as np\n",
        "import seaborn as sns\n",
        "import matplotlib.pyplot as plt\n",
        "from tsnecuda import TSNE\n",
        "from sklearn.metrics.pairwise import cosine_similarity\n",
        "from sklearn.metrics.pairwise import pairwise_distances\n",
        "from scipy.stats import spearmanr, pearsonr\n",
        "from scipy.stats import entropy\n",
        "\n",
        "import tensorflow as tf\n",
        "from tqdm.notebook import tqdm\n",
        "\n",
        "tf.compat.v1.logging.set_verbosity(tf.compat.v1.logging.ERROR)\n",
        "\n",
        "from transformers import (\n",
        "    BertConfig,\n",
        "    BertTokenizer,\n",
        "    TFBertForSequenceClassification\n",
        ")\n",
        "\n",
        "SELECTED_GPU = 1\n",
        "gpus = tf.config.experimental.list_physical_devices('GPU')\n",
        "if gpus:\n",
        "  try:\n",
        "    tf.config.experimental.set_visible_devices(gpus[SELECTED_GPU], 'GPU')\n",
        "    tf.config.experimental.set_memory_growth(gpus[SELECTED_GPU], True)\n",
        "    print(gpus[SELECTED_GPU])\n",
        "  except RuntimeError as e:\n",
        "    print(e)\n"
      ],
      "execution_count": null,
      "outputs": [
        {
          "output_type": "stream",
          "name": "stdout",
          "text": [
            "PhysicalDevice(name='/physical_device:GPU:1', device_type='GPU')\n"
          ]
        }
      ]
    },
    {
      "cell_type": "code",
      "metadata": {
        "colab": {
          "base_uri": "https://localhost:8080/"
        },
        "id": "lecj2kyRNNg8",
        "outputId": "a5723d58-15da-494f-aa85-84c5c5642d30"
      },
      "source": [
        "fdir = '/home/username/NLP/Data/SentEval/data/probing/'\n",
        "BATCH_SIZE = 256\n",
        "MAX_LENGTH = 48\n",
        "\n",
        "TASK_NAME = 'past_present.txt'\n",
        "\n",
        "pretrained_loc = \"bert-base-uncased\"\n",
        "print(\"Running with:\", pretrained_loc)"
      ],
      "execution_count": null,
      "outputs": [
        {
          "output_type": "stream",
          "name": "stdout",
          "text": [
            "Running with: bert-base-uncased\n"
          ]
        }
      ]
    },
    {
      "cell_type": "code",
      "metadata": {
        "id": "CZwyn_yuna7Y",
        "cellView": "form"
      },
      "source": [
        "# @title Required Functions & Classes\n",
        "def load_probing_data(fpath, additive=''):\n",
        "    task_data = {'train': {'X': [], 'y': []},\n",
        "                 'dev': {'X': [], 'y': []},\n",
        "                 'test': {'X': [], 'y': []}}\n",
        "\n",
        "\n",
        "    tok2split = {'tr': 'train', 'va': 'dev', 'te': 'test'}\n",
        "    with io.open(fpath, 'r', encoding='utf-8') as f:\n",
        "        for line in f:\n",
        "            line = line.rstrip().split('\\t')\n",
        "            task_data[tok2split[line[0]]]['X'].append(additive + line[-1])\n",
        "            task_data[tok2split[line[0]]]['y'].append(line[1])\n",
        "\n",
        "        if fpath == '~/NLP/Data/SentEval/data/probing/tree_depth.txt':\n",
        "            labels = ['5', '6', '7', '8', '9', '10', '11']\n",
        "            tok2label = dict(zip(labels, [0, 1. / 6, 2. / 6, 3. / 6, 4. / 6, 5. / 6, 1]))\n",
        "        else:\n",
        "            labels = sorted(np.unique(task_data['train']['y']))\n",
        "            tok2label = dict(zip(labels, range(len(labels))))\n",
        "        nclasses = len(tok2label)\n",
        "\n",
        "        for split in task_data:\n",
        "            for i, y in enumerate(task_data[split]['y']):\n",
        "                task_data[split]['y'][i] = tok2label[y]\n",
        "\n",
        "    return task_data, tok2label, nclasses\n",
        "\n",
        "class BertReprProbing(tf.keras.Model):\n",
        "    def __init__(self, bert_model, **kwargs):\n",
        "        super(BertReprProbing, self).__init__(name=\"BertReprProbing\")\n",
        "        self.bert = bert_model\n",
        "\n",
        "    def call(self, inputs, **kwargs):\n",
        "        middle_hidden_states = self.bert(inputs, **kwargs)[2]\n",
        "        output = []\n",
        "        for i in range(1, 13):\n",
        "            output.append(middle_hidden_states[i])\n",
        "        return tf.stack(output)\n",
        "\n",
        "@tf.function\n",
        "def tf_average(hidden_states, att_mask, w):\n",
        "  max_length = tf.cast(tf.shape(att_mask)[1], tf.float32)\n",
        "  att_mask = tf.cast(att_mask[:, 1:], tf.float32)\n",
        "  avg = tf.reshape(tf.matmul(tf.transpose(hidden_states[:, 1:] * tf.expand_dims(att_mask, axis=-1), perm=[0, 2, 1]), w), (-1, 768))\n",
        "  avg = avg * tf.cast((max_length - 1.0) / tf.reduce_sum(att_mask, axis=-1, keepdims=True), tf.float32)\n",
        "  return avg"
      ],
      "execution_count": null,
      "outputs": []
    },
    {
      "cell_type": "code",
      "metadata": {
        "id": "RA9rpC2_nDxH",
        "colab": {
          "base_uri": "https://localhost:8080/"
        },
        "cellView": "form",
        "outputId": "9d288b3f-dfd7-48e2-f5bc-a30d3094b374"
      },
      "source": [
        "# @title Load BERT Model\n",
        "config = BertConfig.from_pretrained(pretrained_loc, output_hidden_states=True)\n",
        "tokenizer = BertTokenizer.from_pretrained(\"bert-base-uncased\")\n",
        "loaded_model = TFBertForSequenceClassification.from_pretrained(pretrained_loc,\n",
        "                                                               config=config)\n",
        "\n",
        "probing_model = BertReprProbing(loaded_model.bert)\n",
        "clear_output()\n",
        "print(\"Done!\")"
      ],
      "execution_count": null,
      "outputs": [
        {
          "output_type": "stream",
          "name": "stdout",
          "text": [
            "Done!\n"
          ]
        }
      ]
    },
    {
      "cell_type": "code",
      "metadata": {
        "colab": {
          "base_uri": "https://localhost:8080/",
          "height": 101,
          "referenced_widgets": [
            "cb62f6216619419ab56bc5e86ae10357",
            "6e3e6d4d77064f2f9b0e95d2aa9cc68b",
            "03a1d1f0f24b4cb0b85355e36b4c5fea",
            "e10954b426fe4bc38c74b1e9a1032f98",
            "1005e1dbd3b64995a84f5ed2a7401b45",
            "350e71d7b7484bc08aec12ab806b5302",
            "ff2e3b1e184448a1979ba3611aecbd2b",
            "7f265acfd39e456cbb83563313c3e67d"
          ]
        },
        "id": "dD_Lo-3gOzAU",
        "cellView": "form",
        "outputId": "12e901d5-eba5-4a78-d220-9c96b972fad4"
      },
      "source": [
        "#@title Probe Feature Extraction (Total)\n",
        "probe_path = fdir + TASK_NAME\n",
        "task_data, tok2label, nclasses = load_probing_data(probe_path)\n",
        "print(\"Probe Loaded:\", TASK_NAME)\n",
        "\n",
        "del task_data['train']\n",
        "del task_data['dev']\n",
        "gc.collect()\n",
        "\n",
        "\n",
        "n_total_examples = len(task_data['test']['X'])\n",
        "total_steps = int(np.ceil(n_total_examples / BATCH_SIZE))\n",
        "\n",
        "total_hidden_representations = np.zeros((12, n_total_examples, MAX_LENGTH, 768), dtype=np.float32)\n",
        "total_token_ids = np.zeros((n_total_examples, MAX_LENGTH), dtype=np.int32)\n",
        "total_att_masks = np.zeros((n_total_examples, MAX_LENGTH), dtype=np.int32)\n",
        "\n",
        "print(\"Starting probe feature extraction:\", TASK_NAME)\n",
        "\n",
        "for i in tqdm(range(total_steps)):\n",
        "    tokens_batched = tokenizer.batch_encode_plus(task_data['test']['X'][i * BATCH_SIZE:min((i + 1) * BATCH_SIZE, n_total_examples)],\n",
        "                                                 max_length=MAX_LENGTH,\n",
        "                                                 return_tensors='tf',\n",
        "                                                 truncation=True,\n",
        "                                                 padding='max_length')\n",
        "    \n",
        "    total_hidden_representations[:,\n",
        "    i * BATCH_SIZE:(i + 1) * BATCH_SIZE, :, :] = probing_model(tokens_batched, training=False).numpy()\n",
        "\n",
        "    total_att_masks[i * BATCH_SIZE:(i + 1) * BATCH_SIZE, :] = tokens_batched['attention_mask']\n",
        "    total_token_ids[i * BATCH_SIZE:(i + 1) * BATCH_SIZE, :] = tokens_batched['input_ids']                                 "
      ],
      "execution_count": null,
      "outputs": [
        {
          "output_type": "stream",
          "name": "stdout",
          "text": [
            "Probe Loaded: past_present.txt\n",
            "Starting probe feature extraction: past_present.txt\n"
          ]
        },
        {
          "output_type": "display_data",
          "data": {
            "text/plain": [
              "HBox(children=(FloatProgress(value=0.0, max=40.0), HTML(value='')))"
            ],
            "application/vnd.jupyter.widget-view+json": {
              "version_major": 2,
              "version_minor": 0,
              "model_id": "cb62f6216619419ab56bc5e86ae10357"
            }
          },
          "metadata": {}
        },
        {
          "output_type": "stream",
          "name": "stdout",
          "text": [
            "\n"
          ]
        }
      ]
    },
    {
      "cell_type": "code",
      "metadata": {
        "id": "VyDud-pMNFxz",
        "cellView": "form"
      },
      "source": [
        "# @title Importance Computation 2 Function\n",
        "def compute_importance(n_examples, hidden_representations, att_masks, label, classifier_model_fpath):\n",
        "  saliances = np.zeros((12, n_examples, nclasses, MAX_LENGTH))\n",
        "  gold_importance = np.empty((12, n_examples, MAX_LENGTH))\n",
        "  weights = tf.Variable(np.ones((MAX_LENGTH-1, 1)) / (MAX_LENGTH-1), dtype=tf.float32, trainable=True)\n",
        "  pred_labels = np.zeros((12, n_examples))\n",
        "  accuracy = np.zeros(12)\n",
        "\n",
        "  BATCH_SIZE = 128\n",
        "  steps = int(np.ceil(n_examples / BATCH_SIZE))\n",
        "  for i in range(12):\n",
        "    # print(\"Load classifier\", i)\n",
        "    classifier = tf.keras.models.load_model(classifier_model_fpath + TASK_NAME[:-4] + '/' + str(i))\n",
        "    acc = 0.0\n",
        "    for j in range(steps):\n",
        "      with tf.GradientTape() as tape:\n",
        "        avgs = tf_average(hidden_representations[i, j * BATCH_SIZE:(j + 1) * BATCH_SIZE, :, :],\n",
        "                          att_masks[j * BATCH_SIZE:(j + 1) * BATCH_SIZE, :], weights)\n",
        "        probs = classifier(avgs)[:, 0]\n",
        "      grads = tape.gradient(probs, avgs)\n",
        "      pred_labels[i, j * BATCH_SIZE:(j + 1) * BATCH_SIZE] = probs < 0.5\n",
        "      salience_scores = tf.expand_dims(grads, axis=1) * hidden_representations[i, j * BATCH_SIZE:(j + 1) * BATCH_SIZE, :, :] * tf.cast(tf.expand_dims(att_masks[j * BATCH_SIZE:(j + 1) * BATCH_SIZE, :], axis=-1), dtype=tf.float32)\n",
        "      saliances[i][j * BATCH_SIZE:(j + 1) * BATCH_SIZE, 0, 1:] = tf.reduce_sum(salience_scores, axis=-1).numpy()[:, 1:]\n",
        "      saliances[i][j * BATCH_SIZE:(j + 1) * BATCH_SIZE, 1, 1:] = -saliances[i][j * BATCH_SIZE:(j + 1) * BATCH_SIZE, 0, 1:]\n",
        "      \n",
        "      acc += np.mean(pred_labels[i, j * BATCH_SIZE:(j + 1) * BATCH_SIZE] == label[j * BATCH_SIZE:(j + 1) * BATCH_SIZE])\n",
        "      # importance[i][j * BATCH_SIZE:(j + 1) * BATCH_SIZE, :, 1:] = tf.squeeze(grads, axis=-1)\n",
        "      # rep_importance[i][j * BATCH_SIZE:(j + 1) * BATCH_SIZE, :] = grads_rep_based\n",
        "    # print(acc / steps)\n",
        "    accuracy[i] = acc / steps\n",
        "\n",
        "  \n",
        "  for i in range(n_examples):\n",
        "    gold_importance[:, i] = saliances[:, i, label[i]]\n",
        "  return saliances, gold_importance, accuracy, pred_labels\n",
        "      "
      ],
      "execution_count": null,
      "outputs": []
    },
    {
      "cell_type": "code",
      "metadata": {
        "id": "Mgg76URhNUrX"
      },
      "source": [
        "CLASSIFIER_MODEL_FPATH_100K_BASE = '/home/username/NLP/Projects/SentEval/Training/saved_classifier_control_full_'\n",
        "CLASSIFIER_MODEL_FPATH_1K_BASE = '/home/username/NLP/Projects/SentEval/Training/saved_classifier_control_10K_'\n"
      ],
      "execution_count": null,
      "outputs": []
    },
    {
      "cell_type": "code",
      "metadata": {
        "id": "S7nYOPipCPF_"
      },
      "source": [
        "# @title compute correlations\n",
        "accuracies_100k = np.zeros((3, 12))\n",
        "accuracies_1k = np.zeros((3, 12))\n",
        "\n",
        "pearsons = np.zeros((3, 12))\n",
        "spearmans = np.zeros((3, 12))\n",
        "\n",
        "for seed in range(3):\n",
        "  # 100k\n",
        "  _, impo_100k, acc_100k, _ = compute_importance(n_total_examples, total_hidden_representations, total_att_masks, task_data['test']['y'], CLASSIFIER_MODEL_FPATH_100K_BASE+str(seed+1)+'/')\n",
        "  accuracies_100k[seed] = acc_100k\n",
        "  # 1k\n",
        "  _, impo_1k, acc_1k, _ = compute_importance(n_total_examples, total_hidden_representations, total_att_masks, task_data['test']['y'], CLASSIFIER_MODEL_FPATH_1K_BASE+str(seed+1)+'/')\n",
        "  accuracies_1k[seed] = acc_1k\n",
        "\n",
        "  for l in range(12):\n",
        "    for ex in range(n_total_examples):\n",
        "      P = impo_100k[l][ex][1:np.sum(total_att_masks[ex])] # remove cls and pad tokens\n",
        "      Q = impo_1k[l][ex][1:np.sum(total_att_masks[ex])] # remove cls and pad tokens\n",
        "\n",
        "      # Correlations\n",
        "      pearsons[seed][l] = pearsonr(P, Q)[0]\n",
        "      spearmans[seed][l] = spearmanr(P, Q)[0]\n",
        "\n"
      ],
      "execution_count": null,
      "outputs": []
    },
    {
      "cell_type": "code",
      "metadata": {
        "colab": {
          "base_uri": "https://localhost:8080/",
          "height": 279
        },
        "id": "rrR-kHBnewVG",
        "outputId": "7c5b5c21-a82f-4fbd-cd55-91538a4b21b4"
      },
      "source": [
        "# @title performance scores\n",
        "plt.plot(np.mean(accuracies_100k, axis=0), label='100k')\n",
        "plt.plot(np.mean(accuracies_1k, axis=0), label='10k')\n",
        "plt.ylabel('Acc')\n",
        "plt.xlabel('Layer')\n",
        "plt.legend()\n",
        "plt.show()"
      ],
      "execution_count": null,
      "outputs": [
        {
          "output_type": "display_data",
          "data": {
            "text/plain": [
              "<Figure size 432x288 with 1 Axes>"
            ],
            "image/png": "[encoded data removed]"
          },
          "metadata": {
            "needs_background": "light"
          }
        }
      ]
    },
    {
      "cell_type": "markdown",
      "metadata": {
        "id": "nSDlS1ZOllH4"
      },
      "source": [
        "###Pearson"
      ]
    },
    {
      "cell_type": "code",
      "metadata": {
        "colab": {
          "base_uri": "https://localhost:8080/"
        },
        "id": "R9VfoAGEF54l",
        "outputId": "209d92d0-3c83-46ac-c4fd-68370c120200"
      },
      "source": [
        "print(np.mean(np.mean(pearsons, axis=1)))\n",
        "print(np.mean(np.max(pearsons, axis=1)))"
      ],
      "execution_count": null,
      "outputs": [
        {
          "output_type": "stream",
          "name": "stdout",
          "text": [
            "0.8471550509547673\n",
            "0.9317797147635162\n"
          ]
        }
      ]
    },
    {
      "cell_type": "markdown",
      "metadata": {
        "id": "S35QC1fwlhrk"
      },
      "source": [
        "###Sperman"
      ]
    },
    {
      "cell_type": "code",
      "metadata": {
        "colab": {
          "base_uri": "https://localhost:8080/"
        },
        "id": "ZX7NXbBhlfil",
        "outputId": "4c1474f7-2e7f-446e-c239-f5e34c85a178"
      },
      "source": [
        "print(np.mean(np.mean(spearmans, axis=1)))\n",
        "print(np.mean(np.max(spearmans, axis=1)))"
      ],
      "execution_count": null,
      "outputs": [
        {
          "output_type": "stream",
          "name": "stdout",
          "text": [
            "0.6706959706959706\n",
            "0.9120879120879121\n"
          ]
        }
      ]
    },
    {
      "cell_type": "code",
      "metadata": {
        "id": "KprNBW-WULHk"
      },
      "source": [
        ""
      ],
      "execution_count": null,
      "outputs": []
    }
  ]
}