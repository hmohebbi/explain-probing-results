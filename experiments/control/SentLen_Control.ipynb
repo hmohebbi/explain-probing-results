{
  "cells": [
    {
      "cell_type": "code",
      "execution_count": null,
      "metadata": {
        "cellView": "form",
        "colab": {
          "base_uri": "https://localhost:8080/"
        },
        "id": "RpLBgH329inc",
        "outputId": "fa333234-4f16-4a01-d3db-57f340ce2c95"
      },
      "outputs": [],
      "source": [
        "# @title Import Requirements\n",
        "from IPython.display import clear_output\n",
        "import os\n",
        "import io\n",
        "import gc\n",
        "import random\n",
        "import nltk\n",
        "\n",
        "import numpy as np\n",
        "import seaborn as sns\n",
        "import matplotlib.pyplot as plt\n",
        "from tsnecuda import TSNE\n",
        "from sklearn.metrics.pairwise import cosine_similarity\n",
        "from sklearn.metrics.pairwise import pairwise_distances\n",
        "from scipy.stats import spearmanr, pearsonr\n",
        "from scipy.stats import entropy\n",
        "\n",
        "import tensorflow as tf\n",
        "from tqdm.notebook import tqdm\n",
        "\n",
        "tf.compat.v1.logging.set_verbosity(tf.compat.v1.logging.ERROR)\n",
        "from NLP.Projects.SentEval.Training.deeputils.custom_utils import PearsonCorr\n",
        "\n",
        "\n",
        "from transformers import (\n",
        "    BertConfig,\n",
        "    BertTokenizer,\n",
        "    TFBertForSequenceClassification\n",
        ")\n",
        "\n",
        "SELECTED_GPU = 0\n",
        "gpus = tf.config.experimental.list_physical_devices('GPU')\n",
        "if gpus:\n",
        "  try:\n",
        "    tf.config.experimental.set_visible_devices(gpus[SELECTED_GPU], 'GPU')\n",
        "    tf.config.experimental.set_memory_growth(gpus[SELECTED_GPU], True)\n",
        "    print(gpus[SELECTED_GPU])\n",
        "  except RuntimeError as e:\n",
        "    print(e)\n"
      ]
    },
    {
      "cell_type": "code",
      "execution_count": null,
      "metadata": {
        "colab": {
          "base_uri": "https://localhost:8080/"
        },
        "id": "lecj2kyRNNg8",
        "outputId": "586ce13f-13de-4463-c053-8237d6e92a91"
      },
      "outputs": [
        {
          "name": "stdout",
          "output_type": "stream",
          "text": [
            "Running with: bert-base-uncased\n"
          ]
        }
      ],
      "source": [
        "fdir = '/home/username/NLP/Data/SentEval/data/probing/'\n",
        "BATCH_SIZE = 256\n",
        "MAX_LENGTH = 64\n",
        "\n",
        "TASK_NAME = 'sentence_length.txt'\n",
        "\n",
        "pretrained_loc = \"bert-base-uncased\"\n",
        "print(\"Running with:\", pretrained_loc)"
      ]
    },
    {
      "cell_type": "code",
      "execution_count": null,
      "metadata": {
        "cellView": "form",
        "id": "CZwyn_yuna7Y"
      },
      "outputs": [],
      "source": [
        "# @title Required Functions & Classes\n",
        "def load_probing_data(fpath, additive=''):\n",
        "    task_data = {'train': {'X': [], 'y': []},\n",
        "                 'dev': {'X': [], 'y': []},\n",
        "                 'test': {'X': [], 'y': []}}\n",
        "\n",
        "\n",
        "    tok2split = {'tr': 'train', 'va': 'dev', 'te': 'test'}\n",
        "    with io.open(fpath, 'r', encoding='utf-8') as f:\n",
        "        for line in f:\n",
        "            line = line.rstrip().split('\\t')\n",
        "            task_data[tok2split[line[0]]]['X'].append(additive + line[-1])\n",
        "            task_data[tok2split[line[0]]]['y'].append(line[1])\n",
        "\n",
        "        if fpath == '~/NLP/Data/SentEval/data/probing/tree_depth.txt':\n",
        "            labels = ['5', '6', '7', '8', '9', '10', '11']\n",
        "            tok2label = dict(zip(labels, [0, 1. / 6, 2. / 6, 3. / 6, 4. / 6, 5. / 6, 1]))\n",
        "        else:\n",
        "            labels = sorted(np.unique(task_data['train']['y']))\n",
        "            tok2label = dict(zip(labels, range(len(labels))))\n",
        "        nclasses = len(tok2label)\n",
        "\n",
        "        for split in task_data:\n",
        "            for i, y in enumerate(task_data[split]['y']):\n",
        "                task_data[split]['y'][i] = tok2label[y]\n",
        "\n",
        "    return task_data, tok2label, nclasses\n",
        "\n",
        "class BertReprProbing(tf.keras.Model):\n",
        "    def __init__(self, bert_model, **kwargs):\n",
        "        super(BertReprProbing, self).__init__(name=\"BertReprProbing\")\n",
        "        self.bert = bert_model\n",
        "\n",
        "    def call(self, inputs, **kwargs):\n",
        "        middle_hidden_states = self.bert(inputs, **kwargs)[2]\n",
        "        output = []\n",
        "        for i in range(1, 13):\n",
        "            output.append(middle_hidden_states[i])\n",
        "        return tf.stack(output)\n",
        "\n",
        "@tf.function\n",
        "def tf_average(hidden_states, att_mask, w):\n",
        "  max_length = tf.cast(tf.shape(att_mask)[1], tf.float32)\n",
        "  att_mask = tf.cast(att_mask[:, 1:], tf.float32)\n",
        "  avg = tf.reshape(tf.matmul(tf.transpose(hidden_states[:, 1:] * tf.expand_dims(att_mask, axis=-1), perm=[0, 2, 1]), w), (-1, 768))\n",
        "  avg = avg * tf.cast((max_length - 1.0) / tf.reduce_sum(att_mask, axis=-1, keepdims=True), tf.float32)\n",
        "  return avg"
      ]
    },
    {
      "cell_type": "code",
      "execution_count": null,
      "metadata": {
        "cellView": "form",
        "colab": {
          "base_uri": "https://localhost:8080/"
        },
        "id": "RA9rpC2_nDxH",
        "outputId": "2606beb4-417b-41a4-b367-dab7036ed6a8"
      },
      "outputs": [
        {
          "name": "stdout",
          "output_type": "stream",
          "text": [
            "Done!\n"
          ]
        }
      ],
      "source": [
        "# @title Load BERT Model\n",
        "config = BertConfig.from_pretrained(pretrained_loc, output_hidden_states=True)\n",
        "tokenizer = BertTokenizer.from_pretrained(\"bert-base-uncased\")\n",
        "loaded_model = TFBertForSequenceClassification.from_pretrained(pretrained_loc,\n",
        "                                                               config=config)\n",
        "\n",
        "probing_model = BertReprProbing(loaded_model.bert)\n",
        "clear_output()\n",
        "print(\"Done!\")"
      ]
    },
    {
      "cell_type": "code",
      "execution_count": null,
      "metadata": {
        "cellView": "form",
        "colab": {
          "base_uri": "https://localhost:8080/",
          "height": 149,
          "referenced_widgets": [
            "16a5d34365c6416f907564c05e563d7d",
            "adc9bf57db9140f2b3aa8e03303c4a9a",
            "30561a69915f4fceb628b31da728754f",
            "ce95b78dcac74013811843778af5cbd6",
            "74df577d62ce4714a35f0b8b096ad9da",
            "5df0d146c22246138841f5b123c917e0",
            "9d8cf495186f4cb7addecc45498c6a57",
            "5b6aa2c3467e4c2795523357b4071d4f",
            "8b9cfbe65e7947e2870fdc413cff36ca",
            "fa84d9ecfd264cba82ef6730e3ab062e",
            "274873a31cad41689f2ab83599804d2f",
            "cd7b383d85e24c58a964e9c84110cf49",
            "242a9843ab0e468393d8c53cf7a696ca",
            "9f4d08775a02437d9efc314dd99ab86e",
            "1285326763d84d97bf74797285729fba",
            "43f83de2b0214b0a9bc8881c213dbc49"
          ]
        },
        "id": "dD_Lo-3gOzAU",
        "outputId": "88fdfd54-9e32-4411-a72f-6658a0dc1e3f"
      },
      "outputs": [
        {
          "name": "stdout",
          "output_type": "stream",
          "text": [
            "Probe Loaded: sentence_length.txt\n"
          ]
        },
        {
          "data": {
            "application/vnd.jupyter.widget-view+json": {
              "model_id": "16a5d34365c6416f907564c05e563d7d",
              "version_major": 2,
              "version_minor": 0
            },
            "text/plain": [
              "HBox(children=(FloatProgress(value=0.0, max=9996.0), HTML(value='')))"
            ]
          },
          "metadata": {},
          "output_type": "display_data"
        },
        {
          "name": "stdout",
          "output_type": "stream",
          "text": [
            "\n",
            "Starting probe feature extraction: sentence_length.txt\n"
          ]
        },
        {
          "data": {
            "application/vnd.jupyter.widget-view+json": {
              "model_id": "8b9cfbe65e7947e2870fdc413cff36ca",
              "version_major": 2,
              "version_minor": 0
            },
            "text/plain": [
              "HBox(children=(FloatProgress(value=0.0, max=40.0), HTML(value='')))"
            ]
          },
          "metadata": {},
          "output_type": "display_data"
        },
        {
          "name": "stdout",
          "output_type": "stream",
          "text": [
            "\n"
          ]
        }
      ],
      "source": [
        "#@title Probe Feature Extraction (Total)\n",
        "probe_path = fdir + TASK_NAME\n",
        "task_data, tok2label, nclasses = load_probing_data(probe_path)\n",
        "print(\"Probe Loaded:\", TASK_NAME)\n",
        "\n",
        "del task_data['train']\n",
        "del task_data['dev']\n",
        "gc.collect()\n",
        "\n",
        "ds = 'test'\n",
        "no_examples = len(task_data[ds]['X'])\n",
        "for i in tqdm(range(no_examples)):\n",
        "  task_data[ds]['y'][i] = len(task_data[ds]['X'][i].split())\n",
        "  # task_data[ds]['y'][i] = len(tokenizer.tokenize(task_data[ds]['X'][i]))\n",
        "task_data[ds]['y'] = np.array(task_data[ds]['y'])\n",
        "\n",
        "n_total_examples = len(task_data['test']['X'])\n",
        "total_steps = int(np.ceil(n_total_examples / BATCH_SIZE))\n",
        "\n",
        "total_hidden_representations = np.zeros((12, n_total_examples, MAX_LENGTH, 768), dtype=np.float32)\n",
        "total_token_ids = np.zeros((n_total_examples, MAX_LENGTH), dtype=np.int32)\n",
        "total_att_masks = np.zeros((n_total_examples, MAX_LENGTH), dtype=np.int32)\n",
        "\n",
        "print(\"Starting probe feature extraction:\", TASK_NAME)\n",
        "\n",
        "for i in tqdm(range(total_steps)):\n",
        "    tokens_batched = tokenizer.batch_encode_plus(task_data['test']['X'][i * BATCH_SIZE:min((i + 1) * BATCH_SIZE, n_total_examples)],\n",
        "                                                 max_length=MAX_LENGTH,\n",
        "                                                 return_tensors='tf',\n",
        "                                                 truncation=True,\n",
        "                                                 padding='max_length')\n",
        "    \n",
        "    total_hidden_representations[:,\n",
        "    i * BATCH_SIZE:(i + 1) * BATCH_SIZE, :, :] = probing_model(tokens_batched, training=False).numpy()\n",
        "\n",
        "    total_att_masks[i * BATCH_SIZE:(i + 1) * BATCH_SIZE, :] = tokens_batched['attention_mask']\n",
        "    total_token_ids[i * BATCH_SIZE:(i + 1) * BATCH_SIZE, :] = tokens_batched['input_ids']                                 "
      ]
    },
    {
      "cell_type": "code",
      "execution_count": null,
      "metadata": {
        "cellView": "form",
        "id": "VyDud-pMNFxz"
      },
      "outputs": [],
      "source": [
        "# @title Importance Computation 2 Function\n",
        "def compute_importance(n_examples, hidden_representations, att_masks, label, classifier_model_fpath):\n",
        "  saliances = np.zeros((12, no_examples, MAX_LENGTH))\n",
        "  weights = tf.Variable(np.ones((MAX_LENGTH-1, 1)) / (MAX_LENGTH-1), dtype=tf.float32, trainable=True)\n",
        "  all_outs = np.zeros((12, no_examples))\n",
        "  all_errs = np.zeros((12, no_examples))\n",
        "  new_att_masks = att_masks.copy()\n",
        "\n",
        "  BATCH_SIZE = 128\n",
        "  steps = int(np.ceil(n_examples / BATCH_SIZE))\n",
        "  for i in range(12):\n",
        "    # print(\"Load classifier\", i)\n",
        "    classifier = tf.keras.models.load_model(classifier_model_fpath + TASK_NAME[:-4] + '/' + str(i), custom_objects={\"PearsonCorr\": PearsonCorr})\n",
        "    acc = 0.0\n",
        "    for j in range(steps):\n",
        "      with tf.GradientTape() as tape:\n",
        "        avgs = tf_average(hidden_representations[i, j * BATCH_SIZE:(j + 1) * BATCH_SIZE, :, :],\n",
        "                          att_masks[j * BATCH_SIZE:(j + 1) * BATCH_SIZE, :], weights)\n",
        "        outs = classifier(avgs)\n",
        "      grads = tape.gradient(outs, avgs)\n",
        "      salience_scores = tf.expand_dims(grads, axis=1) * hidden_representations[i, j * BATCH_SIZE:(j + 1) * BATCH_SIZE, :, :] * tf.cast(tf.expand_dims(new_att_masks[j * BATCH_SIZE:(j + 1) * BATCH_SIZE, :], axis=-1), dtype=tf.float32)\n",
        "      saliances[i][j * BATCH_SIZE:(j + 1) * BATCH_SIZE, 1:] = tf.reduce_sum(salience_scores[:, 1:, :], axis=-1).numpy()\n",
        "      all_outs[i][j * BATCH_SIZE:(j + 1) * BATCH_SIZE] = outs.numpy()[:, 0]\n",
        "      \n",
        "      # importance[i][j * BATCH_SIZE:(j + 1) * BATCH_SIZE, :, 1:] = tf.squeeze(grads, axis=-1)\n",
        "      # rep_importance[i][j * BATCH_SIZE:(j + 1) * BATCH_SIZE, :] = grads_rep_based\n",
        "    # print(acc / steps)\n",
        "\n",
        "    all_errs[i] = np.abs(all_outs[i] - task_data['test']['y'])\n",
        "    print(np.mean(all_errs[i]))\n",
        "  accuracy = np.mean(np.round(all_outs) == task_data['test']['y'], axis=-1)\n",
        "\n",
        "  return saliances, None, accuracy, all_outs\n",
        "      "
      ]
    },
    {
      "cell_type": "code",
      "execution_count": null,
      "metadata": {
        "id": "Mgg76URhNUrX"
      },
      "outputs": [],
      "source": [
        "CLASSIFIER_MODEL_FPATH_100K_BASE = '/home/username/NLP/Projects/SentEval/Training/saved_classifier_control_full_'\n",
        "CLASSIFIER_MODEL_FPATH_1K_BASE = '/home/username/NLP/Projects/SentEval/Training/saved_classifier_control_10K_'\n"
      ]
    },
    {
      "cell_type": "code",
      "execution_count": null,
      "metadata": {
        "cellView": "form",
        "id": "S07KSwN3nmJd"
      },
      "outputs": [],
      "source": [
        "# @title compute correlations\n",
        "accuracies_100k = np.zeros((3, 12))\n",
        "accuracies_1k = np.zeros((3, 12))\n",
        "\n",
        "pearsons = np.zeros((3, 12))\n",
        "spearmans = np.zeros((3, 12))\n",
        "\n",
        "for seed in range(3):\n",
        "  # 100k\n",
        "  impo_100k, _, acc_100k, _ = compute_importance(n_total_examples, total_hidden_representations, total_att_masks, task_data['test']['y'], CLASSIFIER_MODEL_FPATH_100K_BASE+str(seed+1)+'/')\n",
        "  accuracies_100k[seed] = acc_100k\n",
        "  # 1k\n",
        "  impo_1k, _, acc_1k, _ = compute_importance(n_total_examples, total_hidden_representations, total_att_masks, task_data['test']['y'], CLASSIFIER_MODEL_FPATH_1K_BASE+str(seed+1)+'/')\n",
        "  accuracies_1k[seed] = acc_1k\n",
        "\n",
        "  for l in range(12):\n",
        "    for ex in range(n_total_examples):\n",
        "      P = impo_100k[l][ex][1:np.sum(total_att_masks[ex])] # remove cls and pad tokens\n",
        "      Q = impo_1k[l][ex][1:np.sum(total_att_masks[ex])] # remove cls and pad tokens\n",
        "\n",
        "      # Correlations\n",
        "      pearsons[seed][l] = pearsonr(P, Q)[0]\n",
        "      spearmans[seed][l] = spearmanr(P, Q)[0]"
      ]
    },
    {
      "cell_type": "code",
      "execution_count": null,
      "metadata": {
        "colab": {
          "base_uri": "https://localhost:8080/",
          "height": 279
        },
        "id": "vtDcF-QGoKgN",
        "outputId": "bbc2e2fb-7ee3-4fa3-f201-4967b2e5f7b8"
      },
      "outputs": [
        {
          "data": {
            "image/png": "[encoded data removed]",
            "text/plain": [
              "<Figure size 432x288 with 1 Axes>"
            ]
          },
          "metadata": {
            "needs_background": "light"
          },
          "output_type": "display_data"
        }
      ],
      "source": [
        "# @title performance scores\n",
        "plt.plot(np.mean(accuracies_100k, axis=0), label='100k')\n",
        "plt.plot(np.mean(accuracies_1k, axis=0), label='10k')\n",
        "plt.ylabel('Acc')\n",
        "plt.xlabel('Layer')\n",
        "plt.legend()\n",
        "plt.show()"
      ]
    },
    {
      "cell_type": "markdown",
      "metadata": {
        "id": "-dllMhCToSLo"
      },
      "source": [
        "###Pearson"
      ]
    },
    {
      "cell_type": "code",
      "execution_count": null,
      "metadata": {
        "colab": {
          "base_uri": "https://localhost:8080/"
        },
        "id": "5kDdEhtMoSLo",
        "outputId": "4d7a0fcb-4843-4612-b9ae-f65f80c4a104"
      },
      "outputs": [
        {
          "name": "stdout",
          "output_type": "stream",
          "text": [
            "0.8003305602256453\n",
            "0.9698333833448328\n"
          ]
        }
      ],
      "source": [
        "print(np.mean(np.mean(pearsons, axis=1)))\n",
        "print(np.mean(np.max(pearsons, axis=1)))"
      ]
    },
    {
      "cell_type": "markdown",
      "metadata": {
        "id": "9I_TfqShoSLo"
      },
      "source": [
        "###Spearman"
      ]
    },
    {
      "cell_type": "code",
      "execution_count": null,
      "metadata": {
        "colab": {
          "base_uri": "https://localhost:8080/"
        },
        "id": "8bRyMWBdoSLp",
        "outputId": "2fe65cc0-8b92-4893-835c-e38aab91b7dc"
      },
      "outputs": [
        {
          "name": "stdout",
          "output_type": "stream",
          "text": [
            "0.7157772304324026\n",
            "0.9400656814449916\n"
          ]
        }
      ],
      "source": [
        "print(np.mean(np.mean(spearmans, axis=1)))\n",
        "print(np.mean(np.max(spearmans, axis=1)))"
      ]
    }
  ],
  "metadata": {
    "colab": {
      "collapsed_sections": [],
      "name": "SentLen_Control.ipynb",
      "provenance": []
    },
    "kernelspec": {
      "display_name": "Python 3",
      "name": "python3"
    },
    "language_info": {
      "name": "python"
    },
    "widgets": {
      "application/vnd.jupyter.widget-state+json": {
        "1285326763d84d97bf74797285729fba": {
          "model_module": "@jupyter-widgets/base",
          "model_module_version": "1.2.0",
          "model_name": "LayoutModel",
          "state": {
            "_model_module": "@jupyter-widgets/base",
            "_model_module_version": "1.2.0",
            "_model_name": "LayoutModel",
            "_view_count": null,
            "_view_module": "@jupyter-widgets/base",
            "_view_module_version": "1.2.0",
            "_view_name": "LayoutView",
            "align_content": null,
            "align_items": null,
            "align_self": null,
            "border": null,
            "bottom": null,
            "display": null,
            "flex": null,
            "flex_flow": null,
            "grid_area": null,
            "grid_auto_columns": null,
            "grid_auto_flow": null,
            "grid_auto_rows": null,
            "grid_column": null,
            "grid_gap": null,
            "grid_row": null,
            "grid_template_areas": null,
            "grid_template_columns": null,
            "grid_template_rows": null,
            "height": null,
            "justify_content": null,
            "justify_items": null,
            "left": null,
            "margin": null,
            "max_height": null,
            "max_width": null,
            "min_height": null,
            "min_width": null,
            "object_fit": null,
            "object_position": null,
            "order": null,
            "overflow": null,
            "overflow_x": null,
            "overflow_y": null,
            "padding": null,
            "right": null,
            "top": null,
            "visibility": null,
            "width": null
          }
        },
        "16a5d34365c6416f907564c05e563d7d": {
          "model_module": "@jupyter-widgets/controls",
          "model_module_version": "1.5.0",
          "model_name": "HBoxModel",
          "state": {
            "_dom_classes": [],
            "_model_module": "@jupyter-widgets/controls",
            "_model_module_version": "1.5.0",
            "_model_name": "HBoxModel",
            "_view_count": null,
            "_view_module": "@jupyter-widgets/controls",
            "_view_module_version": "1.5.0",
            "_view_name": "HBoxView",
            "box_style": "",
            "children": [
              "IPY_MODEL_adc9bf57db9140f2b3aa8e03303c4a9a",
              "IPY_MODEL_30561a69915f4fceb628b31da728754f"
            ],
            "layout": "IPY_MODEL_ce95b78dcac74013811843778af5cbd6"
          }
        },
        "242a9843ab0e468393d8c53cf7a696ca": {
          "model_module": "@jupyter-widgets/base",
          "model_module_version": "1.2.0",
          "model_name": "LayoutModel",
          "state": {
            "_model_module": "@jupyter-widgets/base",
            "_model_module_version": "1.2.0",
            "_model_name": "LayoutModel",
            "_view_count": null,
            "_view_module": "@jupyter-widgets/base",
            "_view_module_version": "1.2.0",
            "_view_name": "LayoutView",
            "align_content": null,
            "align_items": null,
            "align_self": null,
            "border": null,
            "bottom": null,
            "display": null,
            "flex": null,
            "flex_flow": null,
            "grid_area": null,
            "grid_auto_columns": null,
            "grid_auto_flow": null,
            "grid_auto_rows": null,
            "grid_column": null,
            "grid_gap": null,
            "grid_row": null,
            "grid_template_areas": null,
            "grid_template_columns": null,
            "grid_template_rows": null,
            "height": null,
            "justify_content": null,
            "justify_items": null,
            "left": null,
            "margin": null,
            "max_height": null,
            "max_width": null,
            "min_height": null,
            "min_width": null,
            "object_fit": null,
            "object_position": null,
            "order": null,
            "overflow": null,
            "overflow_x": null,
            "overflow_y": null,
            "padding": null,
            "right": null,
            "top": null,
            "visibility": null,
            "width": null
          }
        },
        "274873a31cad41689f2ab83599804d2f": {
          "model_module": "@jupyter-widgets/controls",
          "model_module_version": "1.5.0",
          "model_name": "HTMLModel",
          "state": {
            "_dom_classes": [],
            "_model_module": "@jupyter-widgets/controls",
            "_model_module_version": "1.5.0",
            "_model_name": "HTMLModel",
            "_view_count": null,
            "_view_module": "@jupyter-widgets/controls",
            "_view_module_version": "1.5.0",
            "_view_name": "HTMLView",
            "description": "",
            "description_tooltip": null,
            "layout": "IPY_MODEL_1285326763d84d97bf74797285729fba",
            "placeholder": "​",
            "style": "IPY_MODEL_43f83de2b0214b0a9bc8881c213dbc49",
            "value": " 40/40 [01:33&lt;00:00,  2.34s/it]"
          }
        },
        "30561a69915f4fceb628b31da728754f": {
          "model_module": "@jupyter-widgets/controls",
          "model_module_version": "1.5.0",
          "model_name": "HTMLModel",
          "state": {
            "_dom_classes": [],
            "_model_module": "@jupyter-widgets/controls",
            "_model_module_version": "1.5.0",
            "_model_name": "HTMLModel",
            "_view_count": null,
            "_view_module": "@jupyter-widgets/controls",
            "_view_module_version": "1.5.0",
            "_view_name": "HTMLView",
            "description": "",
            "description_tooltip": null,
            "layout": "IPY_MODEL_9d8cf495186f4cb7addecc45498c6a57",
            "placeholder": "​",
            "style": "IPY_MODEL_5b6aa2c3467e4c2795523357b4071d4f",
            "value": " 9996/9996 [00:00&lt;00:00, 274316.52it/s]"
          }
        },
        "43f83de2b0214b0a9bc8881c213dbc49": {
          "model_module": "@jupyter-widgets/controls",
          "model_module_version": "1.5.0",
          "model_name": "DescriptionStyleModel",
          "state": {
            "_model_module": "@jupyter-widgets/controls",
            "_model_module_version": "1.5.0",
            "_model_name": "DescriptionStyleModel",
            "_view_count": null,
            "_view_module": "@jupyter-widgets/base",
            "_view_module_version": "1.2.0",
            "_view_name": "StyleView",
            "description_width": ""
          }
        },
        "5b6aa2c3467e4c2795523357b4071d4f": {
          "model_module": "@jupyter-widgets/controls",
          "model_module_version": "1.5.0",
          "model_name": "DescriptionStyleModel",
          "state": {
            "_model_module": "@jupyter-widgets/controls",
            "_model_module_version": "1.5.0",
            "_model_name": "DescriptionStyleModel",
            "_view_count": null,
            "_view_module": "@jupyter-widgets/base",
            "_view_module_version": "1.2.0",
            "_view_name": "StyleView",
            "description_width": ""
          }
        },
        "5df0d146c22246138841f5b123c917e0": {
          "model_module": "@jupyter-widgets/controls",
          "model_module_version": "1.5.0",
          "model_name": "ProgressStyleModel",
          "state": {
            "_model_module": "@jupyter-widgets/controls",
            "_model_module_version": "1.5.0",
            "_model_name": "ProgressStyleModel",
            "_view_count": null,
            "_view_module": "@jupyter-widgets/base",
            "_view_module_version": "1.2.0",
            "_view_name": "StyleView",
            "bar_color": null,
            "description_width": "initial"
          }
        },
        "74df577d62ce4714a35f0b8b096ad9da": {
          "model_module": "@jupyter-widgets/base",
          "model_module_version": "1.2.0",
          "model_name": "LayoutModel",
          "state": {
            "_model_module": "@jupyter-widgets/base",
            "_model_module_version": "1.2.0",
            "_model_name": "LayoutModel",
            "_view_count": null,
            "_view_module": "@jupyter-widgets/base",
            "_view_module_version": "1.2.0",
            "_view_name": "LayoutView",
            "align_content": null,
            "align_items": null,
            "align_self": null,
            "border": null,
            "bottom": null,
            "display": null,
            "flex": null,
            "flex_flow": null,
            "grid_area": null,
            "grid_auto_columns": null,
            "grid_auto_flow": null,
            "grid_auto_rows": null,
            "grid_column": null,
            "grid_gap": null,
            "grid_row": null,
            "grid_template_areas": null,
            "grid_template_columns": null,
            "grid_template_rows": null,
            "height": null,
            "justify_content": null,
            "justify_items": null,
            "left": null,
            "margin": null,
            "max_height": null,
            "max_width": null,
            "min_height": null,
            "min_width": null,
            "object_fit": null,
            "object_position": null,
            "order": null,
            "overflow": null,
            "overflow_x": null,
            "overflow_y": null,
            "padding": null,
            "right": null,
            "top": null,
            "visibility": null,
            "width": null
          }
        },
        "8b9cfbe65e7947e2870fdc413cff36ca": {
          "model_module": "@jupyter-widgets/controls",
          "model_module_version": "1.5.0",
          "model_name": "HBoxModel",
          "state": {
            "_dom_classes": [],
            "_model_module": "@jupyter-widgets/controls",
            "_model_module_version": "1.5.0",
            "_model_name": "HBoxModel",
            "_view_count": null,
            "_view_module": "@jupyter-widgets/controls",
            "_view_module_version": "1.5.0",
            "_view_name": "HBoxView",
            "box_style": "",
            "children": [
              "IPY_MODEL_fa84d9ecfd264cba82ef6730e3ab062e",
              "IPY_MODEL_274873a31cad41689f2ab83599804d2f"
            ],
            "layout": "IPY_MODEL_cd7b383d85e24c58a964e9c84110cf49"
          }
        },
        "9d8cf495186f4cb7addecc45498c6a57": {
          "model_module": "@jupyter-widgets/base",
          "model_module_version": "1.2.0",
          "model_name": "LayoutModel",
          "state": {
            "_model_module": "@jupyter-widgets/base",
            "_model_module_version": "1.2.0",
            "_model_name": "LayoutModel",
            "_view_count": null,
            "_view_module": "@jupyter-widgets/base",
            "_view_module_version": "1.2.0",
            "_view_name": "LayoutView",
            "align_content": null,
            "align_items": null,
            "align_self": null,
            "border": null,
            "bottom": null,
            "display": null,
            "flex": null,
            "flex_flow": null,
            "grid_area": null,
            "grid_auto_columns": null,
            "grid_auto_flow": null,
            "grid_auto_rows": null,
            "grid_column": null,
            "grid_gap": null,
            "grid_row": null,
            "grid_template_areas": null,
            "grid_template_columns": null,
            "grid_template_rows": null,
            "height": null,
            "justify_content": null,
            "justify_items": null,
            "left": null,
            "margin": null,
            "max_height": null,
            "max_width": null,
            "min_height": null,
            "min_width": null,
            "object_fit": null,
            "object_position": null,
            "order": null,
            "overflow": null,
            "overflow_x": null,
            "overflow_y": null,
            "padding": null,
            "right": null,
            "top": null,
            "visibility": null,
            "width": null
          }
        },
        "9f4d08775a02437d9efc314dd99ab86e": {
          "model_module": "@jupyter-widgets/controls",
          "model_module_version": "1.5.0",
          "model_name": "ProgressStyleModel",
          "state": {
            "_model_module": "@jupyter-widgets/controls",
            "_model_module_version": "1.5.0",
            "_model_name": "ProgressStyleModel",
            "_view_count": null,
            "_view_module": "@jupyter-widgets/base",
            "_view_module_version": "1.2.0",
            "_view_name": "StyleView",
            "bar_color": null,
            "description_width": "initial"
          }
        },
        "adc9bf57db9140f2b3aa8e03303c4a9a": {
          "model_module": "@jupyter-widgets/controls",
          "model_module_version": "1.5.0",
          "model_name": "FloatProgressModel",
          "state": {
            "_dom_classes": [],
            "_model_module": "@jupyter-widgets/controls",
            "_model_module_version": "1.5.0",
            "_model_name": "FloatProgressModel",
            "_view_count": null,
            "_view_module": "@jupyter-widgets/controls",
            "_view_module_version": "1.5.0",
            "_view_name": "ProgressView",
            "bar_style": "success",
            "description": "100%",
            "description_tooltip": null,
            "layout": "IPY_MODEL_74df577d62ce4714a35f0b8b096ad9da",
            "max": 9996,
            "min": 0,
            "orientation": "horizontal",
            "style": "IPY_MODEL_5df0d146c22246138841f5b123c917e0",
            "value": 9996
          }
        },
        "cd7b383d85e24c58a964e9c84110cf49": {
          "model_module": "@jupyter-widgets/base",
          "model_module_version": "1.2.0",
          "model_name": "LayoutModel",
          "state": {
            "_model_module": "@jupyter-widgets/base",
            "_model_module_version": "1.2.0",
            "_model_name": "LayoutModel",
            "_view_count": null,
            "_view_module": "@jupyter-widgets/base",
            "_view_module_version": "1.2.0",
            "_view_name": "LayoutView",
            "align_content": null,
            "align_items": null,
            "align_self": null,
            "border": null,
            "bottom": null,
            "display": null,
            "flex": null,
            "flex_flow": null,
            "grid_area": null,
            "grid_auto_columns": null,
            "grid_auto_flow": null,
            "grid_auto_rows": null,
            "grid_column": null,
            "grid_gap": null,
            "grid_row": null,
            "grid_template_areas": null,
            "grid_template_columns": null,
            "grid_template_rows": null,
            "height": null,
            "justify_content": null,
            "justify_items": null,
            "left": null,
            "margin": null,
            "max_height": null,
            "max_width": null,
            "min_height": null,
            "min_width": null,
            "object_fit": null,
            "object_position": null,
            "order": null,
            "overflow": null,
            "overflow_x": null,
            "overflow_y": null,
            "padding": null,
            "right": null,
            "top": null,
            "visibility": null,
            "width": null
          }
        },
        "ce95b78dcac74013811843778af5cbd6": {
          "model_module": "@jupyter-widgets/base",
          "model_module_version": "1.2.0",
          "model_name": "LayoutModel",
          "state": {
            "_model_module": "@jupyter-widgets/base",
            "_model_module_version": "1.2.0",
            "_model_name": "LayoutModel",
            "_view_count": null,
            "_view_module": "@jupyter-widgets/base",
            "_view_module_version": "1.2.0",
            "_view_name": "LayoutView",
            "align_content": null,
            "align_items": null,
            "align_self": null,
            "border": null,
            "bottom": null,
            "display": null,
            "flex": null,
            "flex_flow": null,
            "grid_area": null,
            "grid_auto_columns": null,
            "grid_auto_flow": null,
            "grid_auto_rows": null,
            "grid_column": null,
            "grid_gap": null,
            "grid_row": null,
            "grid_template_areas": null,
            "grid_template_columns": null,
            "grid_template_rows": null,
            "height": null,
            "justify_content": null,
            "justify_items": null,
            "left": null,
            "margin": null,
            "max_height": null,
            "max_width": null,
            "min_height": null,
            "min_width": null,
            "object_fit": null,
            "object_position": null,
            "order": null,
            "overflow": null,
            "overflow_x": null,
            "overflow_y": null,
            "padding": null,
            "right": null,
            "top": null,
            "visibility": null,
            "width": null
          }
        },
        "fa84d9ecfd264cba82ef6730e3ab062e": {
          "model_module": "@jupyter-widgets/controls",
          "model_module_version": "1.5.0",
          "model_name": "FloatProgressModel",
          "state": {
            "_dom_classes": [],
            "_model_module": "@jupyter-widgets/controls",
            "_model_module_version": "1.5.0",
            "_model_name": "FloatProgressModel",
            "_view_count": null,
            "_view_module": "@jupyter-widgets/controls",
            "_view_module_version": "1.5.0",
            "_view_name": "ProgressView",
            "bar_style": "success",
            "description": "100%",
            "description_tooltip": null,
            "layout": "IPY_MODEL_242a9843ab0e468393d8c53cf7a696ca",
            "max": 40,
            "min": 0,
            "orientation": "horizontal",
            "style": "IPY_MODEL_9f4d08775a02437d9efc314dd99ab86e",
            "value": 40
          }
        }
      }
    }
  },
  "nbformat": 4,
  "nbformat_minor": 0
}
